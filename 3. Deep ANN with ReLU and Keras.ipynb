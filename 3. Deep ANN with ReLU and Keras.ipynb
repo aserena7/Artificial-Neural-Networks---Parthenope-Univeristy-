{
  "nbformat": 4,
  "nbformat_minor": 0,
  "metadata": {
    "colab": {
      "name": "6.MedianHouseValue. ReLU Deep Keras ANN.ipynb",
      "provenance": [],
      "collapsed_sections": []
    },
    "language_info": {
      "codemirror_mode": {
        "name": "ipython",
        "version": 3
      },
      "file_extension": ".py",
      "mimetype": "text/x-python",
      "name": "python",
      "nbconvert_exporter": "python",
      "pygments_lexer": "ipython3",
      "version": "3.6.7"
    },
    "kernelspec": {
      "name": "python3",
      "display_name": "Python 3"
    },
    "accelerator": "GPU"
  },
  "cells": [
    {
      "cell_type": "markdown",
      "metadata": {
        "id": "x0uJW5xqqqlm",
        "colab_type": "text"
      },
      "source": [
        "# Solving Median House Value classification problem implementing a **deep neural network with ReLU** and tf.Keras"
      ]
    },
    {
      "cell_type": "code",
      "metadata": {
        "id": "V4Dwpm86q2jO",
        "colab_type": "code",
        "outputId": "a8fd414a-6327-453a-a3df-445fdefbeb15",
        "colab": {
          "base_uri": "https://localhost:8080/",
          "height": 172
        }
      },
      "source": [
        "# Tensorflow and tf.keras\n",
        "import tensorflow as tf\n",
        "from tensorflow import keras\n",
        "\n",
        "#Helper libraries\n",
        "import numpy as np\n",
        "import pandas as pd\n",
        "import matplotlib.pyplot as plt\n",
        "from tqdm import tqdm\n",
        "\n",
        "# Google file system\n",
        "from google.colab import drive\n",
        "drive.mount('/gdrive', force_remount=True)"
      ],
      "execution_count": 0,
      "outputs": [
        {
          "output_type": "display_data",
          "data": {
            "text/html": [
              "<p style=\"color: red;\">\n",
              "The default version of TensorFlow in Colab will soon switch to TensorFlow 2.x.<br>\n",
              "We recommend you <a href=\"https://www.tensorflow.org/guide/migrate\" target=\"_blank\">upgrade</a> now \n",
              "or ensure your notebook will continue to use TensorFlow 1.x via the <code>%tensorflow_version 1.x</code> magic:\n",
              "<a href=\"https://colab.research.google.com/notebooks/tensorflow_version.ipynb\" target=\"_blank\">more info</a>.</p>\n"
            ],
            "text/plain": [
              "<IPython.core.display.HTML object>"
            ]
          },
          "metadata": {
            "tags": []
          }
        },
        {
          "output_type": "stream",
          "text": [
            "Go to this URL in a browser: https://accounts.google.com/o/oauth2/auth?client_id=947318989803-6bn6qk8qdgf4n4g3pfee6491hc0brc4i.apps.googleusercontent.com&redirect_uri=urn%3aietf%3awg%3aoauth%3a2.0%3aoob&response_type=code&scope=email%20https%3a%2f%2fwww.googleapis.com%2fauth%2fdocs.test%20https%3a%2f%2fwww.googleapis.com%2fauth%2fdrive%20https%3a%2f%2fwww.googleapis.com%2fauth%2fdrive.photos.readonly%20https%3a%2f%2fwww.googleapis.com%2fauth%2fpeopleapi.readonly\n",
            "\n",
            "Enter your authorization code:\n",
            "··········\n",
            "Mounted at /gdrive\n"
          ],
          "name": "stdout"
        }
      ]
    },
    {
      "cell_type": "code",
      "metadata": {
        "id": "-SAQX4N2qqls",
        "colab_type": "code",
        "outputId": "66f1e164-b575-4370-a126-b474e956a1d2",
        "colab": {
          "base_uri": "https://localhost:8080/",
          "height": 108
        }
      },
      "source": [
        "ATT_FILE = \"/gdrive/My Drive/Colab Notebooks/datasets/Housing/MedianHouseValue/MedianHouseValuePreparedCleanAttributes.csv\"\n",
        "LABEL_FILE = \"/gdrive/My Drive/Colab Notebooks/datasets/Housing/MedianHouseValue/MedianHouseValueOneHotEncodedClasses.csv\"\n",
        "\n",
        "TRAIN_RATE=0.8\n",
        "\n",
        "attributes = pd.read_csv(ATT_FILE)\n",
        "label = pd.read_csv(LABEL_FILE)\n",
        "\n",
        "n_instances = attributes.shape[0]\n",
        "n_train = int(n_instances*TRAIN_RATE)\n",
        "n_dev = int((n_instances-n_train)/2)\n",
        "\n",
        "x_train = attributes.values[:n_train]\n",
        "t_train = label.values[:n_train]\n",
        "\n",
        "x_dev = attributes.values[n_train:n_train+n_dev]\n",
        "t_dev = label.values[n_train:n_train+n_dev]\n",
        "\n",
        "print (\"x_train:\",x_train.shape)\n",
        "print (\"t_train:\",t_train.shape)\n",
        "\n",
        "print (\"x_dev:\",x_dev.shape)\n",
        "print (\"t_dev:\",t_dev.shape)"
      ],
      "execution_count": 0,
      "outputs": [
        {
          "output_type": "stream",
          "text": [
            "x_train: (16342, 9)\n",
            "t_train: (16342, 3)\n",
            "x_dev: (2043, 9)\n",
            "t_dev: (2043, 3)\n"
          ],
          "name": "stdout"
        }
      ]
    },
    {
      "cell_type": "markdown",
      "metadata": {
        "id": "dawlzBekqql1",
        "colab_type": "text"
      },
      "source": [
        "## Initialization"
      ]
    },
    {
      "cell_type": "code",
      "metadata": {
        "id": "kdnGXfsNqql2",
        "colab_type": "code",
        "colab": {}
      },
      "source": [
        "INPUTS = x_train.shape[1]\n",
        "OUTPUTS = t_train.shape[1]\n",
        "NUM_TRAINING_EXAMPLES = int(round(x_train.shape[0]/1))\n",
        "NUM_DEV_EXAMPLES = int (round (x_dev.shape[0]/1))"
      ],
      "execution_count": 0,
      "outputs": []
    },
    {
      "cell_type": "markdown",
      "metadata": {
        "id": "_Vg7Bfaqqql5",
        "colab_type": "text"
      },
      "source": [
        "Some data is displayed to test correctness:"
      ]
    },
    {
      "cell_type": "code",
      "metadata": {
        "id": "7iy9Yc1mqqmE",
        "colab_type": "code",
        "outputId": "3ec0851d-5a77-4986-c86c-db82a3f383db",
        "colab": {
          "base_uri": "https://localhost:8080/",
          "height": 213
        }
      },
      "source": [
        "x_train[:5]"
      ],
      "execution_count": 0,
      "outputs": [
        {
          "output_type": "execute_result",
          "data": {
            "text/plain": [
              "array([[ 0.21713147, -0.69394261,  0.41176471, -0.93926446, -0.88733706,\n",
              "        -0.90924634, -0.89278079, -0.77585137, -1.        ],\n",
              "       [-0.69322709,  0.17747078, -0.29411765, -0.91795107, -0.88671633,\n",
              "        -0.95448303, -0.88949186, -0.59159184,  1.        ],\n",
              "       [ 0.44820717, -0.95961743,  0.37254902, -0.8306628 , -0.80074488,\n",
              "        -0.89349477, -0.79575728, -0.5589716 ,  1.        ],\n",
              "       [ 0.29083665, -0.7088204 , -0.41176471, -0.87629076, -0.85909373,\n",
              "        -0.94315984, -0.84377569, -0.48705535, -1.        ],\n",
              "       [-0.40039841,  0.15834219, -0.49019608, -0.8418536 , -0.84574798,\n",
              "        -0.93413493, -0.82765992, -0.16468738, -0.33333333]])"
            ]
          },
          "metadata": {
            "tags": []
          },
          "execution_count": 4
        }
      ]
    },
    {
      "cell_type": "code",
      "metadata": {
        "id": "DmdArrI0qqmG",
        "colab_type": "code",
        "outputId": "2f799aae-344d-479f-9644-b5df48259f1b",
        "colab": {
          "base_uri": "https://localhost:8080/",
          "height": 213
        }
      },
      "source": [
        "t_train[:10]"
      ],
      "execution_count": 0,
      "outputs": [
        {
          "output_type": "execute_result",
          "data": {
            "text/plain": [
              "array([[1., 0., 0.],\n",
              "       [0., 0., 1.],\n",
              "       [1., 0., 0.],\n",
              "       [0., 1., 0.],\n",
              "       [0., 0., 1.],\n",
              "       [1., 0., 0.],\n",
              "       [1., 0., 0.],\n",
              "       [0., 0., 1.],\n",
              "       [0., 0., 1.],\n",
              "       [0., 0., 1.]])"
            ]
          },
          "metadata": {
            "tags": []
          },
          "execution_count": 5
        }
      ]
    },
    {
      "cell_type": "code",
      "metadata": {
        "id": "dJEJkVdpqqmH",
        "colab_type": "code",
        "outputId": "49ba22ca-1471-4d3b-ab09-d2065510bc87",
        "colab": {
          "base_uri": "https://localhost:8080/",
          "height": 213
        }
      },
      "source": [
        "x_dev[:5]"
      ],
      "execution_count": 0,
      "outputs": [
        {
          "output_type": "execute_result",
          "data": {
            "text/plain": [
              "array([[ 0.22908367, -0.67906482,  0.45098039, -0.83366397, -0.77343265,\n",
              "        -0.81524146, -0.76155238, -0.67868029, -1.        ],\n",
              "       [-0.61752988,  0.10308183,  1.        , -0.94201129, -0.93078833,\n",
              "        -0.97247681, -0.93257688, -0.37100178,  0.33333333],\n",
              "       [-0.39043825,  0.16046759, -0.88235294, -0.92929447, -0.90037244,\n",
              "        -0.90016536, -0.89870087, -0.74136908, -0.33333333],\n",
              "       [-0.24701195, -0.45377258, -0.33333333, -0.85156926, -0.82774674,\n",
              "        -0.94030102, -0.81877981, -0.58286093, -1.        ],\n",
              "       [ 0.22908367, -0.73645058, -0.25490196, -0.90589552, -0.82774674,\n",
              "        -0.90420135, -0.81746423, -0.86805699,  1.        ]])"
            ]
          },
          "metadata": {
            "tags": []
          },
          "execution_count": 6
        }
      ]
    },
    {
      "cell_type": "code",
      "metadata": {
        "id": "DTfWBp2aqqmJ",
        "colab_type": "code",
        "outputId": "e28668e4-a964-4605-ea58-db9e18131424",
        "colab": {
          "base_uri": "https://localhost:8080/",
          "height": 125
        }
      },
      "source": [
        "t_dev[:5]"
      ],
      "execution_count": 0,
      "outputs": [
        {
          "output_type": "execute_result",
          "data": {
            "text/plain": [
              "array([[1., 0., 0.],\n",
              "       [0., 0., 1.],\n",
              "       [1., 0., 0.],\n",
              "       [0., 1., 0.],\n",
              "       [0., 1., 0.]])"
            ]
          },
          "metadata": {
            "tags": []
          },
          "execution_count": 7
        }
      ]
    },
    {
      "cell_type": "markdown",
      "metadata": {
        "id": "zzdGAahIqqmL",
        "colab_type": "text"
      },
      "source": [
        "## Hyperparameters"
      ]
    },
    {
      "cell_type": "markdown",
      "metadata": {
        "id": "bk2y7RR0qqmL",
        "colab_type": "text"
      },
      "source": [
        "The number of hidden layers and neurons per layer must be adjusted. In this example, we increase the computational power of the neural network by adding up to three hidden layers (to be deep) and more neurons per layer. "
      ]
    },
    {
      "cell_type": "code",
      "metadata": {
        "id": "9llGmGvkqqmM",
        "colab_type": "code",
        "colab": {}
      },
      "source": [
        "n_epochs = 600 # corresponding to about 20,000 iterations\n",
        "learning_rate = 0.1\n",
        "batch_size = 500\n",
        "n_neurons_per_hlayer = [10000,10000, 10000] "
      ],
      "execution_count": 0,
      "outputs": []
    },
    {
      "cell_type": "markdown",
      "metadata": {
        "id": "Dl-AsL42qqmN",
        "colab_type": "text"
      },
      "source": [
        "## Build the deep neural model"
      ]
    },
    {
      "cell_type": "markdown",
      "metadata": {
        "id": "ekeUf4K3H8TQ",
        "colab_type": "text"
      },
      "source": [
        "First of all, a sequential model is created. This is the one of Keras models, for full-connected feedforward neural networks, in which layers are sequentially connected. This is called the *sequential* API."
      ]
    },
    {
      "cell_type": "code",
      "metadata": {
        "id": "qOVJ3QSyImxj",
        "colab_type": "code",
        "colab": {}
      },
      "source": [
        "model = keras.Sequential(name=\"Feedforward NN\")"
      ],
      "execution_count": 0,
      "outputs": []
    },
    {
      "cell_type": "markdown",
      "metadata": {
        "id": "_YoyNRtuLubc",
        "colab_type": "text"
      },
      "source": [
        "Define the deep neural network topology. Note that the **tanh** activation function is chosen for the hidden layers and  **softmax** for the ouput layer. **We expect that the neural network does not train properly since we are employing an activation function that saturates at the edges**. \n",
        "\n",
        "Adding layers to the model. The model takes as input matrix tensors with *INPUTS* columns and *batch size* rows. *InputLayer* creates a placeholder where the data is ready to feed the network. Then the hidden layers with *tanh* activation function are created. Finally, the output layer with the *softmax* activation function is added. "
      ]
    },
    {
      "cell_type": "code",
      "metadata": {
        "id": "_HC6q86_IzO7",
        "colab_type": "code",
        "outputId": "ac0ac04c-94d7-49b0-b2e3-4c687beb4304",
        "colab": {
          "base_uri": "https://localhost:8080/",
          "height": 372
        }
      },
      "source": [
        "model.add(keras.layers.InputLayer(input_shape=(INPUTS,), batch_size=None))\n",
        "\n",
        "for neurons in n_neurons_per_hlayer:\n",
        "  model.add(keras.layers.Dense(neurons, activation=\"relu\"))\n",
        "\n",
        "model.add(keras.layers.Dense(OUTPUTS, activation=\"softmax\"))\n",
        "model.summary()"
      ],
      "execution_count": 0,
      "outputs": [
        {
          "output_type": "stream",
          "text": [
            "WARNING:tensorflow:From /usr/local/lib/python3.6/dist-packages/tensorflow_core/python/ops/resource_variable_ops.py:1630: calling BaseResourceVariable.__init__ (from tensorflow.python.ops.resource_variable_ops) with constraint is deprecated and will be removed in a future version.\n",
            "Instructions for updating:\n",
            "If using Keras pass *_constraint arguments to layers.\n",
            "Model: \"Feedforward NN\"\n",
            "_________________________________________________________________\n",
            "Layer (type)                 Output Shape              Param #   \n",
            "=================================================================\n",
            "dense (Dense)                (None, 10000)             100000    \n",
            "_________________________________________________________________\n",
            "dense_1 (Dense)              (None, 10000)             100010000 \n",
            "_________________________________________________________________\n",
            "dense_2 (Dense)              (None, 10000)             100010000 \n",
            "_________________________________________________________________\n",
            "dense_3 (Dense)              (None, 3)                 30003     \n",
            "=================================================================\n",
            "Total params: 200,150,003\n",
            "Trainable params: 200,150,003\n",
            "Non-trainable params: 0\n",
            "_________________________________________________________________\n"
          ],
          "name": "stdout"
        }
      ]
    },
    {
      "cell_type": "markdown",
      "metadata": {
        "id": "UHB1vBGXRmRe",
        "colab_type": "text"
      },
      "source": [
        "For example, the kernel in the last layer comprises 303 parameters to adjust: 100 neurons in the previous layer by 3 neurons in the output layer plus the three biases, one for each output neuron. "
      ]
    },
    {
      "cell_type": "code",
      "metadata": {
        "id": "yf9kooY8RLmO",
        "colab_type": "code",
        "outputId": "e9d7a3d8-baa2-4978-8cb5-9b630538659d",
        "colab": {
          "base_uri": "https://localhost:8080/",
          "height": 108
        }
      },
      "source": [
        "model.layers"
      ],
      "execution_count": 0,
      "outputs": [
        {
          "output_type": "execute_result",
          "data": {
            "text/plain": [
              "[<tensorflow.python.keras.layers.core.Dense at 0x7f7191b9c198>,\n",
              " <tensorflow.python.keras.layers.core.Dense at 0x7f7191b9c7b8>,\n",
              " <tensorflow.python.keras.layers.core.Dense at 0x7f7191315cc0>,\n",
              " <tensorflow.python.keras.layers.core.Dense at 0x7f7191b8a6d8>]"
            ]
          },
          "metadata": {
            "tags": []
          },
          "execution_count": 11
        }
      ]
    },
    {
      "cell_type": "code",
      "metadata": {
        "id": "md6YxH5iRTPj",
        "colab_type": "code",
        "outputId": "069a311c-ad44-4d67-ec08-734928b02fbc",
        "colab": {
          "base_uri": "https://localhost:8080/",
          "height": 108
        }
      },
      "source": [
        "for l in model.layers: print (l.name)"
      ],
      "execution_count": 0,
      "outputs": [
        {
          "output_type": "stream",
          "text": [
            "dense\n",
            "dense_1\n",
            "dense_2\n",
            "dense_3\n"
          ],
          "name": "stdout"
        }
      ]
    },
    {
      "cell_type": "markdown",
      "metadata": {
        "id": "U0gULZpfScnW",
        "colab_type": "text"
      },
      "source": [
        "All the parameters of a layer can bee accessed:"
      ]
    },
    {
      "cell_type": "code",
      "metadata": {
        "id": "LzorJMMJSg1d",
        "colab_type": "code",
        "outputId": "680c8f60-c15f-42c9-f0d9-b61ba456deb1",
        "colab": {
          "base_uri": "https://localhost:8080/",
          "height": 55
        }
      },
      "source": [
        "weights, biases = model.layers[0].get_weights()\n",
        "weights.shape"
      ],
      "execution_count": 0,
      "outputs": [
        {
          "output_type": "execute_result",
          "data": {
            "text/plain": [
              "(9, 10000)"
            ]
          },
          "metadata": {
            "tags": []
          },
          "execution_count": 13
        }
      ]
    },
    {
      "cell_type": "code",
      "metadata": {
        "id": "nG-cVDSiTHJl",
        "colab_type": "code",
        "outputId": "0316d6fa-432a-43de-b1cc-2bb7917531f8",
        "colab": {
          "base_uri": "https://localhost:8080/",
          "height": 55
        }
      },
      "source": [
        "biases"
      ],
      "execution_count": 0,
      "outputs": [
        {
          "output_type": "execute_result",
          "data": {
            "text/plain": [
              "array([0., 0., 0., ..., 0., 0., 0.], dtype=float32)"
            ]
          },
          "metadata": {
            "tags": []
          },
          "execution_count": 14
        }
      ]
    },
    {
      "cell_type": "code",
      "metadata": {
        "id": "7gu0SkqLTP6l",
        "colab_type": "code",
        "outputId": "c0ea5c7f-b206-4b26-e85a-a3212d70ff93",
        "colab": {
          "base_uri": "https://localhost:8080/",
          "height": 55
        }
      },
      "source": [
        "biases.shape"
      ],
      "execution_count": 0,
      "outputs": [
        {
          "output_type": "execute_result",
          "data": {
            "text/plain": [
              "(10000,)"
            ]
          },
          "metadata": {
            "tags": []
          },
          "execution_count": 15
        }
      ]
    },
    {
      "cell_type": "markdown",
      "metadata": {
        "id": "zeHjWFsrTg1j",
        "colab_type": "text"
      },
      "source": [
        "# Compiling the model"
      ]
    },
    {
      "cell_type": "markdown",
      "metadata": {
        "id": "b2nH4ki3TlqB",
        "colab_type": "text"
      },
      "source": [
        "Compiling the model means specifying the *loss* function (the $log-loss$,  $cross-entropy$, the sum of log-loss is a loss) and the *optimizer* (Gradient Descent) to use. Optionally, you can also specify a list of extra *metrics* (Accuracy) to compute during training and evaluation. In this case, "
      ]
    },
    {
      "cell_type": "code",
      "metadata": {
        "id": "XisSOCL1UDh8",
        "colab_type": "code",
        "colab": {}
      },
      "source": [
        "model.compile(loss=tf.keras.losses.categorical_crossentropy,\n",
        "              optimizer=tf.keras.optimizers.SGD(lr=learning_rate),\n",
        "              metrics=[\"categorical_accuracy\"])\n"
      ],
      "execution_count": 0,
      "outputs": []
    },
    {
      "cell_type": "markdown",
      "metadata": {
        "id": "aeM5hW8qUXgC",
        "colab_type": "text"
      },
      "source": [
        "There are several losses functions, optimizers and metrics. Full lists are available at: https://keras.io/losses/, https://keras.io/optimizers/ and https://keras.io/metrics/.\n"
      ]
    },
    {
      "cell_type": "markdown",
      "metadata": {
        "id": "oQZsDnk8bCa8",
        "colab_type": "text"
      },
      "source": [
        "## Training and validating the model with M-BGD"
      ]
    },
    {
      "cell_type": "markdown",
      "metadata": {
        "id": "Qxora106dX1a",
        "colab_type": "text"
      },
      "source": [
        "Note that an **epoch** is an iteration over the entire training dataset provided."
      ]
    },
    {
      "cell_type": "code",
      "metadata": {
        "id": "7xiouC6pbG0m",
        "colab_type": "code",
        "outputId": "3b202836-f539-49cf-c673-78fb42d95531",
        "colab": {
          "base_uri": "https://localhost:8080/",
          "height": 1000
        }
      },
      "source": [
        "import time\n",
        "start = time.clock()\n",
        "history = model.fit(x_train, t_train, batch_size=batch_size, epochs=n_epochs, verbose=1, validation_data=(x_dev, t_dev))    \n",
        "print (time.clock() - start)"
      ],
      "execution_count": 0,
      "outputs": [
        {
          "output_type": "stream",
          "text": [
            "Train on 16342 samples, validate on 2043 samples\n",
            "Epoch 1/600\n",
            "16342/16342 [==============================] - 4s 226us/sample - loss: 1.0575 - categorical_accuracy: 0.5398 - val_loss: 1.0096 - val_categorical_accuracy: 0.6535\n",
            "Epoch 2/600\n",
            "16342/16342 [==============================] - 3s 178us/sample - loss: 0.9534 - categorical_accuracy: 0.6408 - val_loss: 0.8681 - val_categorical_accuracy: 0.6672\n",
            "Epoch 3/600\n",
            "16342/16342 [==============================] - 3s 179us/sample - loss: 0.8427 - categorical_accuracy: 0.6333 - val_loss: 0.7576 - val_categorical_accuracy: 0.6711\n",
            "Epoch 4/600\n",
            "16342/16342 [==============================] - 3s 178us/sample - loss: 0.7974 - categorical_accuracy: 0.6282 - val_loss: 0.7054 - val_categorical_accuracy: 0.6858\n",
            "Epoch 5/600\n",
            "16342/16342 [==============================] - 3s 179us/sample - loss: 0.7773 - categorical_accuracy: 0.6413 - val_loss: 0.7252 - val_categorical_accuracy: 0.6608\n",
            "Epoch 6/600\n",
            "16342/16342 [==============================] - 3s 178us/sample - loss: 0.7301 - categorical_accuracy: 0.6651 - val_loss: 0.7079 - val_categorical_accuracy: 0.6691\n",
            "Epoch 7/600\n",
            "16342/16342 [==============================] - 3s 178us/sample - loss: 0.7141 - categorical_accuracy: 0.6739 - val_loss: 0.6818 - val_categorical_accuracy: 0.6809\n",
            "Epoch 8/600\n",
            "16342/16342 [==============================] - 3s 179us/sample - loss: 0.7040 - categorical_accuracy: 0.6776 - val_loss: 0.7218 - val_categorical_accuracy: 0.6696\n",
            "Epoch 9/600\n",
            "16342/16342 [==============================] - 3s 179us/sample - loss: 0.6862 - categorical_accuracy: 0.6876 - val_loss: 0.6552 - val_categorical_accuracy: 0.7024\n",
            "Epoch 10/600\n",
            "16342/16342 [==============================] - 3s 178us/sample - loss: 0.6976 - categorical_accuracy: 0.6844 - val_loss: 0.6888 - val_categorical_accuracy: 0.6833\n",
            "Epoch 11/600\n",
            "16342/16342 [==============================] - 3s 178us/sample - loss: 0.6858 - categorical_accuracy: 0.6870 - val_loss: 0.6737 - val_categorical_accuracy: 0.6926\n",
            "Epoch 12/600\n",
            "16342/16342 [==============================] - 3s 179us/sample - loss: 0.6824 - categorical_accuracy: 0.6870 - val_loss: 0.6592 - val_categorical_accuracy: 0.6970\n",
            "Epoch 13/600\n",
            "16342/16342 [==============================] - 3s 177us/sample - loss: 0.6678 - categorical_accuracy: 0.6986 - val_loss: 0.6393 - val_categorical_accuracy: 0.7097\n",
            "Epoch 14/600\n",
            "16342/16342 [==============================] - 3s 178us/sample - loss: 0.6547 - categorical_accuracy: 0.7065 - val_loss: 0.6607 - val_categorical_accuracy: 0.6951\n",
            "Epoch 15/600\n",
            "16342/16342 [==============================] - 3s 179us/sample - loss: 0.6775 - categorical_accuracy: 0.6953 - val_loss: 0.6482 - val_categorical_accuracy: 0.7024\n",
            "Epoch 16/600\n",
            "16342/16342 [==============================] - 3s 178us/sample - loss: 0.6567 - categorical_accuracy: 0.7043 - val_loss: 0.7034 - val_categorical_accuracy: 0.6799\n",
            "Epoch 17/600\n",
            "16342/16342 [==============================] - 3s 177us/sample - loss: 0.6550 - categorical_accuracy: 0.7075 - val_loss: 0.6421 - val_categorical_accuracy: 0.7009\n",
            "Epoch 18/600\n",
            "16342/16342 [==============================] - 3s 178us/sample - loss: 0.6697 - categorical_accuracy: 0.6975 - val_loss: 0.6293 - val_categorical_accuracy: 0.7093\n",
            "Epoch 19/600\n",
            "16342/16342 [==============================] - 3s 178us/sample - loss: 0.6507 - categorical_accuracy: 0.7082 - val_loss: 0.6662 - val_categorical_accuracy: 0.6911\n",
            "Epoch 20/600\n",
            "16342/16342 [==============================] - 3s 178us/sample - loss: 0.6588 - categorical_accuracy: 0.7033 - val_loss: 0.6372 - val_categorical_accuracy: 0.7112\n",
            "Epoch 21/600\n",
            "16342/16342 [==============================] - 3s 177us/sample - loss: 0.6480 - categorical_accuracy: 0.7103 - val_loss: 0.6438 - val_categorical_accuracy: 0.7044\n",
            "Epoch 22/600\n",
            "16342/16342 [==============================] - 3s 178us/sample - loss: 0.6656 - categorical_accuracy: 0.6988 - val_loss: 0.6241 - val_categorical_accuracy: 0.7146\n",
            "Epoch 23/600\n",
            "16342/16342 [==============================] - 3s 178us/sample - loss: 0.6505 - categorical_accuracy: 0.7071 - val_loss: 0.6934 - val_categorical_accuracy: 0.6907\n",
            "Epoch 24/600\n",
            "16342/16342 [==============================] - 3s 177us/sample - loss: 0.6503 - categorical_accuracy: 0.7100 - val_loss: 0.6918 - val_categorical_accuracy: 0.6936\n",
            "Epoch 25/600\n",
            "16342/16342 [==============================] - 3s 178us/sample - loss: 0.6491 - categorical_accuracy: 0.7095 - val_loss: 0.6490 - val_categorical_accuracy: 0.7044\n",
            "Epoch 26/600\n",
            "16342/16342 [==============================] - 3s 178us/sample - loss: 0.6370 - categorical_accuracy: 0.7200 - val_loss: 0.6642 - val_categorical_accuracy: 0.6843\n",
            "Epoch 27/600\n",
            "16342/16342 [==============================] - 3s 178us/sample - loss: 0.6534 - categorical_accuracy: 0.7076 - val_loss: 0.6430 - val_categorical_accuracy: 0.7093\n",
            "Epoch 28/600\n",
            "16342/16342 [==============================] - 3s 178us/sample - loss: 0.6376 - categorical_accuracy: 0.7166 - val_loss: 0.6354 - val_categorical_accuracy: 0.7034\n",
            "Epoch 29/600\n",
            "16342/16342 [==============================] - 3s 178us/sample - loss: 0.6359 - categorical_accuracy: 0.7183 - val_loss: 0.6206 - val_categorical_accuracy: 0.7225\n",
            "Epoch 30/600\n",
            "16342/16342 [==============================] - 3s 177us/sample - loss: 0.6468 - categorical_accuracy: 0.7118 - val_loss: 0.6875 - val_categorical_accuracy: 0.6985\n",
            "Epoch 31/600\n",
            "16342/16342 [==============================] - 3s 178us/sample - loss: 0.6401 - categorical_accuracy: 0.7150 - val_loss: 0.6230 - val_categorical_accuracy: 0.7137\n",
            "Epoch 32/600\n",
            "16342/16342 [==============================] - 3s 178us/sample - loss: 0.6440 - categorical_accuracy: 0.7117 - val_loss: 0.6338 - val_categorical_accuracy: 0.7024\n",
            "Epoch 33/600\n",
            "16342/16342 [==============================] - 3s 178us/sample - loss: 0.6450 - categorical_accuracy: 0.7131 - val_loss: 0.6354 - val_categorical_accuracy: 0.7034\n",
            "Epoch 34/600\n",
            "16342/16342 [==============================] - 3s 178us/sample - loss: 0.6282 - categorical_accuracy: 0.7222 - val_loss: 0.6492 - val_categorical_accuracy: 0.7117\n",
            "Epoch 35/600\n",
            "16342/16342 [==============================] - 3s 179us/sample - loss: 0.6446 - categorical_accuracy: 0.7116 - val_loss: 0.6168 - val_categorical_accuracy: 0.7264\n",
            "Epoch 36/600\n",
            "16342/16342 [==============================] - 3s 179us/sample - loss: 0.6361 - categorical_accuracy: 0.7147 - val_loss: 0.6378 - val_categorical_accuracy: 0.7141\n",
            "Epoch 37/600\n",
            "16342/16342 [==============================] - 3s 178us/sample - loss: 0.6488 - categorical_accuracy: 0.7095 - val_loss: 0.6135 - val_categorical_accuracy: 0.7220\n",
            "Epoch 38/600\n",
            "16342/16342 [==============================] - 3s 178us/sample - loss: 0.6253 - categorical_accuracy: 0.7248 - val_loss: 0.6393 - val_categorical_accuracy: 0.7014\n",
            "Epoch 39/600\n",
            "16342/16342 [==============================] - 3s 178us/sample - loss: 0.6296 - categorical_accuracy: 0.7220 - val_loss: 0.6129 - val_categorical_accuracy: 0.7200\n",
            "Epoch 40/600\n",
            "16342/16342 [==============================] - 3s 178us/sample - loss: 0.6374 - categorical_accuracy: 0.7175 - val_loss: 0.6324 - val_categorical_accuracy: 0.7078\n",
            "Epoch 41/600\n",
            "16342/16342 [==============================] - 3s 178us/sample - loss: 0.6310 - categorical_accuracy: 0.7227 - val_loss: 0.6122 - val_categorical_accuracy: 0.7186\n",
            "Epoch 42/600\n",
            "16342/16342 [==============================] - 3s 177us/sample - loss: 0.6270 - categorical_accuracy: 0.7236 - val_loss: 0.6621 - val_categorical_accuracy: 0.7107\n",
            "Epoch 43/600\n",
            "16342/16342 [==============================] - 3s 178us/sample - loss: 0.6472 - categorical_accuracy: 0.7106 - val_loss: 0.6080 - val_categorical_accuracy: 0.7293\n",
            "Epoch 44/600\n",
            "16342/16342 [==============================] - 3s 178us/sample - loss: 0.6339 - categorical_accuracy: 0.7193 - val_loss: 0.6174 - val_categorical_accuracy: 0.7176\n",
            "Epoch 45/600\n",
            "16342/16342 [==============================] - 3s 178us/sample - loss: 0.6218 - categorical_accuracy: 0.7260 - val_loss: 0.6058 - val_categorical_accuracy: 0.7293\n",
            "Epoch 46/600\n",
            "16342/16342 [==============================] - 3s 178us/sample - loss: 0.6312 - categorical_accuracy: 0.7197 - val_loss: 0.6323 - val_categorical_accuracy: 0.7181\n",
            "Epoch 47/600\n",
            "16342/16342 [==============================] - 3s 178us/sample - loss: 0.6313 - categorical_accuracy: 0.7196 - val_loss: 0.6236 - val_categorical_accuracy: 0.7303\n",
            "Epoch 48/600\n",
            "16342/16342 [==============================] - 3s 179us/sample - loss: 0.6279 - categorical_accuracy: 0.7214 - val_loss: 0.6241 - val_categorical_accuracy: 0.7078\n",
            "Epoch 49/600\n",
            "16342/16342 [==============================] - 3s 178us/sample - loss: 0.6286 - categorical_accuracy: 0.7229 - val_loss: 0.6081 - val_categorical_accuracy: 0.7318\n",
            "Epoch 50/600\n",
            "16342/16342 [==============================] - 3s 178us/sample - loss: 0.6175 - categorical_accuracy: 0.7276 - val_loss: 0.6302 - val_categorical_accuracy: 0.7102\n",
            "Epoch 51/600\n",
            "16342/16342 [==============================] - 3s 179us/sample - loss: 0.6165 - categorical_accuracy: 0.7273 - val_loss: 0.6053 - val_categorical_accuracy: 0.7367\n",
            "Epoch 52/600\n",
            "16342/16342 [==============================] - 3s 178us/sample - loss: 0.6223 - categorical_accuracy: 0.7248 - val_loss: 0.6000 - val_categorical_accuracy: 0.7352\n",
            "Epoch 53/600\n",
            "16342/16342 [==============================] - 3s 178us/sample - loss: 0.6360 - categorical_accuracy: 0.7156 - val_loss: 0.6030 - val_categorical_accuracy: 0.7362\n",
            "Epoch 54/600\n",
            "16342/16342 [==============================] - 3s 177us/sample - loss: 0.6297 - categorical_accuracy: 0.7196 - val_loss: 0.6057 - val_categorical_accuracy: 0.7362\n",
            "Epoch 55/600\n",
            "16342/16342 [==============================] - 3s 178us/sample - loss: 0.6204 - categorical_accuracy: 0.7270 - val_loss: 0.5985 - val_categorical_accuracy: 0.7293\n",
            "Epoch 56/600\n",
            "16342/16342 [==============================] - 3s 178us/sample - loss: 0.6233 - categorical_accuracy: 0.7239 - val_loss: 0.6025 - val_categorical_accuracy: 0.7347\n",
            "Epoch 57/600\n",
            "16342/16342 [==============================] - 3s 179us/sample - loss: 0.6201 - categorical_accuracy: 0.7257 - val_loss: 0.6400 - val_categorical_accuracy: 0.7107\n",
            "Epoch 58/600\n",
            "16342/16342 [==============================] - 3s 178us/sample - loss: 0.6177 - categorical_accuracy: 0.7243 - val_loss: 0.6075 - val_categorical_accuracy: 0.7303\n",
            "Epoch 59/600\n",
            "16342/16342 [==============================] - 3s 178us/sample - loss: 0.6144 - categorical_accuracy: 0.7308 - val_loss: 0.5966 - val_categorical_accuracy: 0.7323\n",
            "Epoch 60/600\n",
            "16342/16342 [==============================] - 3s 178us/sample - loss: 0.6222 - categorical_accuracy: 0.7236 - val_loss: 0.6004 - val_categorical_accuracy: 0.7274\n",
            "Epoch 61/600\n",
            "16342/16342 [==============================] - 3s 178us/sample - loss: 0.6312 - categorical_accuracy: 0.7167 - val_loss: 0.5994 - val_categorical_accuracy: 0.7244\n",
            "Epoch 62/600\n",
            "16342/16342 [==============================] - 3s 178us/sample - loss: 0.6116 - categorical_accuracy: 0.7318 - val_loss: 0.6301 - val_categorical_accuracy: 0.7200\n",
            "Epoch 63/600\n",
            "16342/16342 [==============================] - 3s 178us/sample - loss: 0.6202 - categorical_accuracy: 0.7292 - val_loss: 0.6178 - val_categorical_accuracy: 0.7186\n",
            "Epoch 64/600\n",
            "16342/16342 [==============================] - 3s 179us/sample - loss: 0.6138 - categorical_accuracy: 0.7296 - val_loss: 0.6044 - val_categorical_accuracy: 0.7259\n",
            "Epoch 65/600\n",
            "16342/16342 [==============================] - 3s 178us/sample - loss: 0.6214 - categorical_accuracy: 0.7256 - val_loss: 0.6300 - val_categorical_accuracy: 0.7097\n",
            "Epoch 66/600\n",
            "16342/16342 [==============================] - 3s 178us/sample - loss: 0.6185 - categorical_accuracy: 0.7278 - val_loss: 0.5976 - val_categorical_accuracy: 0.7283\n",
            "Epoch 67/600\n",
            "16342/16342 [==============================] - 3s 178us/sample - loss: 0.6178 - categorical_accuracy: 0.7276 - val_loss: 0.5964 - val_categorical_accuracy: 0.7332\n",
            "Epoch 68/600\n",
            "16342/16342 [==============================] - 3s 179us/sample - loss: 0.6074 - categorical_accuracy: 0.7320 - val_loss: 0.5980 - val_categorical_accuracy: 0.7283\n",
            "Epoch 69/600\n",
            "16342/16342 [==============================] - 3s 178us/sample - loss: 0.6121 - categorical_accuracy: 0.7303 - val_loss: 0.5950 - val_categorical_accuracy: 0.7288\n",
            "Epoch 70/600\n",
            "16342/16342 [==============================] - 3s 179us/sample - loss: 0.6164 - categorical_accuracy: 0.7295 - val_loss: 0.6257 - val_categorical_accuracy: 0.7083\n",
            "Epoch 71/600\n",
            "16342/16342 [==============================] - 3s 178us/sample - loss: 0.6106 - categorical_accuracy: 0.7298 - val_loss: 0.6554 - val_categorical_accuracy: 0.6946\n",
            "Epoch 72/600\n",
            "16342/16342 [==============================] - 3s 178us/sample - loss: 0.6167 - categorical_accuracy: 0.7309 - val_loss: 0.6328 - val_categorical_accuracy: 0.7053\n",
            "Epoch 73/600\n",
            "16342/16342 [==============================] - 3s 178us/sample - loss: 0.6193 - categorical_accuracy: 0.7270 - val_loss: 0.6049 - val_categorical_accuracy: 0.7244\n",
            "Epoch 74/600\n",
            "16342/16342 [==============================] - 3s 178us/sample - loss: 0.6089 - categorical_accuracy: 0.7329 - val_loss: 0.5908 - val_categorical_accuracy: 0.7386\n",
            "Epoch 75/600\n",
            "16342/16342 [==============================] - 3s 177us/sample - loss: 0.6114 - categorical_accuracy: 0.7321 - val_loss: 0.6000 - val_categorical_accuracy: 0.7357\n",
            "Epoch 76/600\n",
            "16342/16342 [==============================] - 3s 177us/sample - loss: 0.6021 - categorical_accuracy: 0.7382 - val_loss: 0.5904 - val_categorical_accuracy: 0.7327\n",
            "Epoch 77/600\n",
            "16342/16342 [==============================] - 3s 178us/sample - loss: 0.6188 - categorical_accuracy: 0.7288 - val_loss: 0.6532 - val_categorical_accuracy: 0.6941\n",
            "Epoch 78/600\n",
            "16342/16342 [==============================] - 3s 178us/sample - loss: 0.6058 - categorical_accuracy: 0.7334 - val_loss: 0.6023 - val_categorical_accuracy: 0.7318\n",
            "Epoch 79/600\n",
            "16342/16342 [==============================] - 3s 178us/sample - loss: 0.6064 - categorical_accuracy: 0.7344 - val_loss: 0.6225 - val_categorical_accuracy: 0.7200\n",
            "Epoch 80/600\n",
            "16342/16342 [==============================] - 3s 178us/sample - loss: 0.6084 - categorical_accuracy: 0.7311 - val_loss: 0.5917 - val_categorical_accuracy: 0.7293\n",
            "Epoch 81/600\n",
            "16342/16342 [==============================] - 3s 178us/sample - loss: 0.6024 - categorical_accuracy: 0.7343 - val_loss: 0.6013 - val_categorical_accuracy: 0.7313\n",
            "Epoch 82/600\n",
            "16342/16342 [==============================] - 3s 177us/sample - loss: 0.6000 - categorical_accuracy: 0.7350 - val_loss: 0.5909 - val_categorical_accuracy: 0.7352\n",
            "Epoch 83/600\n",
            "16342/16342 [==============================] - 3s 177us/sample - loss: 0.6064 - categorical_accuracy: 0.7334 - val_loss: 0.6169 - val_categorical_accuracy: 0.7215\n",
            "Epoch 84/600\n",
            "16342/16342 [==============================] - 3s 178us/sample - loss: 0.6071 - categorical_accuracy: 0.7313 - val_loss: 0.5871 - val_categorical_accuracy: 0.7372\n",
            "Epoch 85/600\n",
            "16342/16342 [==============================] - 3s 178us/sample - loss: 0.6120 - categorical_accuracy: 0.7292 - val_loss: 0.5866 - val_categorical_accuracy: 0.7435\n",
            "Epoch 86/600\n",
            "16342/16342 [==============================] - 3s 177us/sample - loss: 0.6012 - categorical_accuracy: 0.7358 - val_loss: 0.5913 - val_categorical_accuracy: 0.7367\n",
            "Epoch 87/600\n",
            "16342/16342 [==============================] - 3s 179us/sample - loss: 0.6062 - categorical_accuracy: 0.7349 - val_loss: 0.6185 - val_categorical_accuracy: 0.7279\n",
            "Epoch 88/600\n",
            "16342/16342 [==============================] - 3s 177us/sample - loss: 0.6072 - categorical_accuracy: 0.7312 - val_loss: 0.5935 - val_categorical_accuracy: 0.7288\n",
            "Epoch 89/600\n",
            "16342/16342 [==============================] - 3s 178us/sample - loss: 0.6056 - categorical_accuracy: 0.7325 - val_loss: 0.6388 - val_categorical_accuracy: 0.6990\n",
            "Epoch 90/600\n",
            "16342/16342 [==============================] - 3s 178us/sample - loss: 0.5983 - categorical_accuracy: 0.7358 - val_loss: 0.6239 - val_categorical_accuracy: 0.7102\n",
            "Epoch 91/600\n",
            "16342/16342 [==============================] - 3s 178us/sample - loss: 0.6028 - categorical_accuracy: 0.7359 - val_loss: 0.5995 - val_categorical_accuracy: 0.7244\n",
            "Epoch 92/600\n",
            "16342/16342 [==============================] - 3s 179us/sample - loss: 0.5959 - categorical_accuracy: 0.7370 - val_loss: 0.6119 - val_categorical_accuracy: 0.7195\n",
            "Epoch 93/600\n",
            "16342/16342 [==============================] - 3s 179us/sample - loss: 0.6078 - categorical_accuracy: 0.7280 - val_loss: 0.6048 - val_categorical_accuracy: 0.7372\n",
            "Epoch 94/600\n",
            "16342/16342 [==============================] - 3s 177us/sample - loss: 0.6015 - categorical_accuracy: 0.7343 - val_loss: 0.6000 - val_categorical_accuracy: 0.7264\n",
            "Epoch 95/600\n",
            "16342/16342 [==============================] - 3s 177us/sample - loss: 0.6007 - categorical_accuracy: 0.7371 - val_loss: 0.5854 - val_categorical_accuracy: 0.7318\n",
            "Epoch 96/600\n",
            "16342/16342 [==============================] - 3s 177us/sample - loss: 0.6055 - categorical_accuracy: 0.7355 - val_loss: 0.6007 - val_categorical_accuracy: 0.7308\n",
            "Epoch 97/600\n",
            "16342/16342 [==============================] - 3s 178us/sample - loss: 0.6066 - categorical_accuracy: 0.7306 - val_loss: 0.6110 - val_categorical_accuracy: 0.7283\n",
            "Epoch 98/600\n",
            "16342/16342 [==============================] - 3s 177us/sample - loss: 0.6024 - categorical_accuracy: 0.7342 - val_loss: 0.5879 - val_categorical_accuracy: 0.7406\n",
            "Epoch 99/600\n",
            "16342/16342 [==============================] - 3s 178us/sample - loss: 0.5969 - categorical_accuracy: 0.7378 - val_loss: 0.5874 - val_categorical_accuracy: 0.7367\n",
            "Epoch 100/600\n",
            "16342/16342 [==============================] - 3s 177us/sample - loss: 0.6061 - categorical_accuracy: 0.7328 - val_loss: 0.5935 - val_categorical_accuracy: 0.7357\n",
            "Epoch 101/600\n",
            "16342/16342 [==============================] - 3s 178us/sample - loss: 0.6007 - categorical_accuracy: 0.7328 - val_loss: 0.5940 - val_categorical_accuracy: 0.7308\n",
            "Epoch 102/600\n",
            "16342/16342 [==============================] - 3s 178us/sample - loss: 0.5994 - categorical_accuracy: 0.7336 - val_loss: 0.6061 - val_categorical_accuracy: 0.7200\n",
            "Epoch 103/600\n",
            "16342/16342 [==============================] - 3s 177us/sample - loss: 0.6002 - categorical_accuracy: 0.7316 - val_loss: 0.6118 - val_categorical_accuracy: 0.7259\n",
            "Epoch 104/600\n",
            "16342/16342 [==============================] - 3s 178us/sample - loss: 0.5954 - categorical_accuracy: 0.7352 - val_loss: 0.5804 - val_categorical_accuracy: 0.7357\n",
            "Epoch 105/600\n",
            "16342/16342 [==============================] - 3s 177us/sample - loss: 0.5872 - categorical_accuracy: 0.7450 - val_loss: 0.5786 - val_categorical_accuracy: 0.7381\n",
            "Epoch 106/600\n",
            "16342/16342 [==============================] - 3s 177us/sample - loss: 0.6059 - categorical_accuracy: 0.7342 - val_loss: 0.6044 - val_categorical_accuracy: 0.7234\n",
            "Epoch 107/600\n",
            "16342/16342 [==============================] - 3s 178us/sample - loss: 0.6071 - categorical_accuracy: 0.7287 - val_loss: 0.5895 - val_categorical_accuracy: 0.7327\n",
            "Epoch 108/600\n",
            "16342/16342 [==============================] - 3s 178us/sample - loss: 0.5838 - categorical_accuracy: 0.7436 - val_loss: 0.5954 - val_categorical_accuracy: 0.7274\n",
            "Epoch 109/600\n",
            "16342/16342 [==============================] - 3s 178us/sample - loss: 0.5930 - categorical_accuracy: 0.7399 - val_loss: 0.6506 - val_categorical_accuracy: 0.7097\n",
            "Epoch 110/600\n",
            "16342/16342 [==============================] - 3s 179us/sample - loss: 0.5918 - categorical_accuracy: 0.7404 - val_loss: 0.6075 - val_categorical_accuracy: 0.7195\n",
            "Epoch 111/600\n",
            "16342/16342 [==============================] - 3s 177us/sample - loss: 0.5901 - categorical_accuracy: 0.7386 - val_loss: 0.5696 - val_categorical_accuracy: 0.7465\n",
            "Epoch 112/600\n",
            "16342/16342 [==============================] - 3s 177us/sample - loss: 0.6027 - categorical_accuracy: 0.7343 - val_loss: 0.6251 - val_categorical_accuracy: 0.7122\n",
            "Epoch 113/600\n",
            "16342/16342 [==============================] - 3s 178us/sample - loss: 0.6014 - categorical_accuracy: 0.7331 - val_loss: 0.5782 - val_categorical_accuracy: 0.7469\n",
            "Epoch 114/600\n",
            "16342/16342 [==============================] - 3s 178us/sample - loss: 0.5928 - categorical_accuracy: 0.7408 - val_loss: 0.5797 - val_categorical_accuracy: 0.7406\n",
            "Epoch 115/600\n",
            "16342/16342 [==============================] - 3s 177us/sample - loss: 0.5909 - categorical_accuracy: 0.7413 - val_loss: 0.5786 - val_categorical_accuracy: 0.7430\n",
            "Epoch 116/600\n",
            "16342/16342 [==============================] - 3s 178us/sample - loss: 0.5830 - categorical_accuracy: 0.7416 - val_loss: 0.6130 - val_categorical_accuracy: 0.7186\n",
            "Epoch 117/600\n",
            "16342/16342 [==============================] - 3s 177us/sample - loss: 0.5829 - categorical_accuracy: 0.7415 - val_loss: 0.5704 - val_categorical_accuracy: 0.7435\n",
            "Epoch 118/600\n",
            "16342/16342 [==============================] - 3s 178us/sample - loss: 0.5951 - categorical_accuracy: 0.7352 - val_loss: 0.5700 - val_categorical_accuracy: 0.7484\n",
            "Epoch 119/600\n",
            "16342/16342 [==============================] - 3s 178us/sample - loss: 0.5895 - categorical_accuracy: 0.7429 - val_loss: 0.5668 - val_categorical_accuracy: 0.7465\n",
            "Epoch 120/600\n",
            "16342/16342 [==============================] - 3s 178us/sample - loss: 0.5921 - categorical_accuracy: 0.7398 - val_loss: 0.6294 - val_categorical_accuracy: 0.7156\n",
            "Epoch 121/600\n",
            "16342/16342 [==============================] - 3s 178us/sample - loss: 0.5933 - categorical_accuracy: 0.7410 - val_loss: 0.5673 - val_categorical_accuracy: 0.7533\n",
            "Epoch 122/600\n",
            "16342/16342 [==============================] - 3s 177us/sample - loss: 0.5900 - categorical_accuracy: 0.7413 - val_loss: 0.5751 - val_categorical_accuracy: 0.7416\n",
            "Epoch 123/600\n",
            "16342/16342 [==============================] - 3s 178us/sample - loss: 0.5926 - categorical_accuracy: 0.7393 - val_loss: 0.5716 - val_categorical_accuracy: 0.7479\n",
            "Epoch 124/600\n",
            "16342/16342 [==============================] - 3s 177us/sample - loss: 0.5794 - categorical_accuracy: 0.7456 - val_loss: 0.6663 - val_categorical_accuracy: 0.6897\n",
            "Epoch 125/600\n",
            "16342/16342 [==============================] - 3s 178us/sample - loss: 0.5922 - categorical_accuracy: 0.7368 - val_loss: 0.5714 - val_categorical_accuracy: 0.7479\n",
            "Epoch 126/600\n",
            "16342/16342 [==============================] - 3s 178us/sample - loss: 0.5971 - categorical_accuracy: 0.7344 - val_loss: 0.5768 - val_categorical_accuracy: 0.7367\n",
            "Epoch 127/600\n",
            "16342/16342 [==============================] - 3s 178us/sample - loss: 0.5850 - categorical_accuracy: 0.7422 - val_loss: 0.5689 - val_categorical_accuracy: 0.7504\n",
            "Epoch 128/600\n",
            "16342/16342 [==============================] - 3s 178us/sample - loss: 0.5771 - categorical_accuracy: 0.7446 - val_loss: 0.5974 - val_categorical_accuracy: 0.7298\n",
            "Epoch 129/600\n",
            "16342/16342 [==============================] - 3s 178us/sample - loss: 0.5806 - categorical_accuracy: 0.7439 - val_loss: 0.5613 - val_categorical_accuracy: 0.7504\n",
            "Epoch 130/600\n",
            "16342/16342 [==============================] - 3s 178us/sample - loss: 0.5925 - categorical_accuracy: 0.7385 - val_loss: 0.5686 - val_categorical_accuracy: 0.7538\n",
            "Epoch 131/600\n",
            "16342/16342 [==============================] - 3s 178us/sample - loss: 0.5999 - categorical_accuracy: 0.7338 - val_loss: 0.6114 - val_categorical_accuracy: 0.7146\n",
            "Epoch 132/600\n",
            "16342/16342 [==============================] - 3s 179us/sample - loss: 0.5870 - categorical_accuracy: 0.7393 - val_loss: 0.6539 - val_categorical_accuracy: 0.7107\n",
            "Epoch 133/600\n",
            "16342/16342 [==============================] - 3s 178us/sample - loss: 0.5954 - categorical_accuracy: 0.7394 - val_loss: 0.5768 - val_categorical_accuracy: 0.7411\n",
            "Epoch 134/600\n",
            "16342/16342 [==============================] - 3s 178us/sample - loss: 0.5823 - categorical_accuracy: 0.7437 - val_loss: 0.5704 - val_categorical_accuracy: 0.7479\n",
            "Epoch 135/600\n",
            "16342/16342 [==============================] - 3s 178us/sample - loss: 0.5667 - categorical_accuracy: 0.7539 - val_loss: 0.5831 - val_categorical_accuracy: 0.7303\n",
            "Epoch 136/600\n",
            "16342/16342 [==============================] - 3s 178us/sample - loss: 0.5960 - categorical_accuracy: 0.7339 - val_loss: 0.5820 - val_categorical_accuracy: 0.7381\n",
            "Epoch 137/600\n",
            "16342/16342 [==============================] - 3s 179us/sample - loss: 0.5747 - categorical_accuracy: 0.7489 - val_loss: 0.5926 - val_categorical_accuracy: 0.7362\n",
            "Epoch 138/600\n",
            "16342/16342 [==============================] - 3s 178us/sample - loss: 0.5979 - categorical_accuracy: 0.7328 - val_loss: 0.5784 - val_categorical_accuracy: 0.7406\n",
            "Epoch 139/600\n",
            "16342/16342 [==============================] - 3s 178us/sample - loss: 0.5885 - categorical_accuracy: 0.7415 - val_loss: 0.5799 - val_categorical_accuracy: 0.7396\n",
            "Epoch 140/600\n",
            "16342/16342 [==============================] - 3s 179us/sample - loss: 0.5839 - categorical_accuracy: 0.7418 - val_loss: 0.5921 - val_categorical_accuracy: 0.7332\n",
            "Epoch 141/600\n",
            "16342/16342 [==============================] - 3s 177us/sample - loss: 0.5855 - categorical_accuracy: 0.7429 - val_loss: 0.6066 - val_categorical_accuracy: 0.7298\n",
            "Epoch 142/600\n",
            "16342/16342 [==============================] - 3s 178us/sample - loss: 0.5779 - categorical_accuracy: 0.7439 - val_loss: 0.5695 - val_categorical_accuracy: 0.7465\n",
            "Epoch 143/600\n",
            "16342/16342 [==============================] - 3s 178us/sample - loss: 0.5903 - categorical_accuracy: 0.7375 - val_loss: 0.5644 - val_categorical_accuracy: 0.7469\n",
            "Epoch 144/600\n",
            "16342/16342 [==============================] - 3s 177us/sample - loss: 0.5793 - categorical_accuracy: 0.7432 - val_loss: 0.5718 - val_categorical_accuracy: 0.7469\n",
            "Epoch 145/600\n",
            "16342/16342 [==============================] - 3s 179us/sample - loss: 0.5822 - categorical_accuracy: 0.7417 - val_loss: 0.5931 - val_categorical_accuracy: 0.7298\n",
            "Epoch 146/600\n",
            "16342/16342 [==============================] - 3s 177us/sample - loss: 0.5881 - categorical_accuracy: 0.7396 - val_loss: 0.5629 - val_categorical_accuracy: 0.7445\n",
            "Epoch 147/600\n",
            "16342/16342 [==============================] - 3s 178us/sample - loss: 0.5846 - categorical_accuracy: 0.7401 - val_loss: 0.5626 - val_categorical_accuracy: 0.7445\n",
            "Epoch 148/600\n",
            "16342/16342 [==============================] - 3s 178us/sample - loss: 0.5866 - categorical_accuracy: 0.7429 - val_loss: 0.5693 - val_categorical_accuracy: 0.7396\n",
            "Epoch 149/600\n",
            "16342/16342 [==============================] - 3s 178us/sample - loss: 0.5689 - categorical_accuracy: 0.7499 - val_loss: 0.5961 - val_categorical_accuracy: 0.7372\n",
            "Epoch 150/600\n",
            "16342/16342 [==============================] - 3s 177us/sample - loss: 0.5808 - categorical_accuracy: 0.7435 - val_loss: 0.5824 - val_categorical_accuracy: 0.7362\n",
            "Epoch 151/600\n",
            "16342/16342 [==============================] - 3s 179us/sample - loss: 0.5701 - categorical_accuracy: 0.7507 - val_loss: 0.5677 - val_categorical_accuracy: 0.7484\n",
            "Epoch 152/600\n",
            "16342/16342 [==============================] - 3s 177us/sample - loss: 0.5769 - categorical_accuracy: 0.7453 - val_loss: 0.5686 - val_categorical_accuracy: 0.7469\n",
            "Epoch 153/600\n",
            "16342/16342 [==============================] - 3s 178us/sample - loss: 0.5833 - categorical_accuracy: 0.7426 - val_loss: 0.5765 - val_categorical_accuracy: 0.7411\n",
            "Epoch 154/600\n",
            "16342/16342 [==============================] - 3s 177us/sample - loss: 0.5856 - categorical_accuracy: 0.7428 - val_loss: 0.5618 - val_categorical_accuracy: 0.7518\n",
            "Epoch 155/600\n",
            "16342/16342 [==============================] - 3s 178us/sample - loss: 0.5878 - categorical_accuracy: 0.7383 - val_loss: 0.6113 - val_categorical_accuracy: 0.7318\n",
            "Epoch 156/600\n",
            "16342/16342 [==============================] - 3s 178us/sample - loss: 0.5921 - categorical_accuracy: 0.7347 - val_loss: 0.5624 - val_categorical_accuracy: 0.7518\n",
            "Epoch 157/600\n",
            "16342/16342 [==============================] - 3s 178us/sample - loss: 0.5658 - categorical_accuracy: 0.7504 - val_loss: 0.5664 - val_categorical_accuracy: 0.7484\n",
            "Epoch 158/600\n",
            "16342/16342 [==============================] - 3s 178us/sample - loss: 0.5828 - categorical_accuracy: 0.7412 - val_loss: 0.5913 - val_categorical_accuracy: 0.7239\n",
            "Epoch 159/600\n",
            "16342/16342 [==============================] - 3s 177us/sample - loss: 0.5864 - categorical_accuracy: 0.7432 - val_loss: 0.5938 - val_categorical_accuracy: 0.7283\n",
            "Epoch 160/600\n",
            "16342/16342 [==============================] - 3s 178us/sample - loss: 0.5758 - categorical_accuracy: 0.7462 - val_loss: 0.5724 - val_categorical_accuracy: 0.7450\n",
            "Epoch 161/600\n",
            "16342/16342 [==============================] - 3s 178us/sample - loss: 0.5734 - categorical_accuracy: 0.7480 - val_loss: 0.5537 - val_categorical_accuracy: 0.7538\n",
            "Epoch 162/600\n",
            "16342/16342 [==============================] - 3s 177us/sample - loss: 0.5721 - categorical_accuracy: 0.7475 - val_loss: 0.5569 - val_categorical_accuracy: 0.7548\n",
            "Epoch 163/600\n",
            "16342/16342 [==============================] - 3s 179us/sample - loss: 0.5679 - categorical_accuracy: 0.7498 - val_loss: 0.5999 - val_categorical_accuracy: 0.7337\n",
            "Epoch 164/600\n",
            "16342/16342 [==============================] - 3s 178us/sample - loss: 0.5850 - categorical_accuracy: 0.7421 - val_loss: 0.6900 - val_categorical_accuracy: 0.6877\n",
            "Epoch 165/600\n",
            "16342/16342 [==============================] - 3s 178us/sample - loss: 0.5723 - categorical_accuracy: 0.7474 - val_loss: 0.5568 - val_categorical_accuracy: 0.7504\n",
            "Epoch 166/600\n",
            "16342/16342 [==============================] - 3s 176us/sample - loss: 0.5757 - categorical_accuracy: 0.7494 - val_loss: 0.5607 - val_categorical_accuracy: 0.7494\n",
            "Epoch 167/600\n",
            "16342/16342 [==============================] - 3s 178us/sample - loss: 0.5682 - categorical_accuracy: 0.7488 - val_loss: 0.6939 - val_categorical_accuracy: 0.6907\n",
            "Epoch 168/600\n",
            "16342/16342 [==============================] - 3s 178us/sample - loss: 0.5722 - categorical_accuracy: 0.7502 - val_loss: 0.5778 - val_categorical_accuracy: 0.7435\n",
            "Epoch 169/600\n",
            "16342/16342 [==============================] - 3s 178us/sample - loss: 0.5798 - categorical_accuracy: 0.7456 - val_loss: 0.6539 - val_categorical_accuracy: 0.6907\n",
            "Epoch 170/600\n",
            "16342/16342 [==============================] - 3s 178us/sample - loss: 0.5726 - categorical_accuracy: 0.7492 - val_loss: 0.5634 - val_categorical_accuracy: 0.7469\n",
            "Epoch 171/600\n",
            "16342/16342 [==============================] - 3s 178us/sample - loss: 0.5630 - categorical_accuracy: 0.7552 - val_loss: 0.5730 - val_categorical_accuracy: 0.7376\n",
            "Epoch 172/600\n",
            "16342/16342 [==============================] - 3s 178us/sample - loss: 0.5823 - categorical_accuracy: 0.7397 - val_loss: 0.5509 - val_categorical_accuracy: 0.7562\n",
            "Epoch 173/600\n",
            "16342/16342 [==============================] - 3s 178us/sample - loss: 0.5653 - categorical_accuracy: 0.7510 - val_loss: 0.5747 - val_categorical_accuracy: 0.7401\n",
            "Epoch 174/600\n",
            "16342/16342 [==============================] - 3s 178us/sample - loss: 0.5761 - categorical_accuracy: 0.7427 - val_loss: 0.5927 - val_categorical_accuracy: 0.7352\n",
            "Epoch 175/600\n",
            "16342/16342 [==============================] - 3s 177us/sample - loss: 0.5813 - categorical_accuracy: 0.7434 - val_loss: 0.5600 - val_categorical_accuracy: 0.7509\n",
            "Epoch 176/600\n",
            "16342/16342 [==============================] - 3s 178us/sample - loss: 0.5757 - categorical_accuracy: 0.7461 - val_loss: 0.5726 - val_categorical_accuracy: 0.7401\n",
            "Epoch 177/600\n",
            "16342/16342 [==============================] - 3s 178us/sample - loss: 0.5738 - categorical_accuracy: 0.7480 - val_loss: 0.5840 - val_categorical_accuracy: 0.7411\n",
            "Epoch 178/600\n",
            "16342/16342 [==============================] - 3s 178us/sample - loss: 0.5685 - categorical_accuracy: 0.7486 - val_loss: 0.5546 - val_categorical_accuracy: 0.7558\n",
            "Epoch 179/600\n",
            "16342/16342 [==============================] - 3s 178us/sample - loss: 0.5667 - categorical_accuracy: 0.7481 - val_loss: 0.5555 - val_categorical_accuracy: 0.7484\n",
            "Epoch 180/600\n",
            "16342/16342 [==============================] - 3s 177us/sample - loss: 0.5625 - categorical_accuracy: 0.7531 - val_loss: 0.5605 - val_categorical_accuracy: 0.7479\n",
            "Epoch 181/600\n",
            "16342/16342 [==============================] - 3s 178us/sample - loss: 0.5682 - categorical_accuracy: 0.7472 - val_loss: 0.5676 - val_categorical_accuracy: 0.7499\n",
            "Epoch 182/600\n",
            "16342/16342 [==============================] - 3s 177us/sample - loss: 0.5856 - categorical_accuracy: 0.7422 - val_loss: 0.5851 - val_categorical_accuracy: 0.7318\n",
            "Epoch 183/600\n",
            "16342/16342 [==============================] - 3s 177us/sample - loss: 0.5685 - categorical_accuracy: 0.7486 - val_loss: 0.5680 - val_categorical_accuracy: 0.7504\n",
            "Epoch 184/600\n",
            "16342/16342 [==============================] - 3s 177us/sample - loss: 0.5760 - categorical_accuracy: 0.7474 - val_loss: 0.6121 - val_categorical_accuracy: 0.7137\n",
            "Epoch 185/600\n",
            "16342/16342 [==============================] - 3s 178us/sample - loss: 0.5672 - categorical_accuracy: 0.7493 - val_loss: 0.5834 - val_categorical_accuracy: 0.7381\n",
            "Epoch 186/600\n",
            "16342/16342 [==============================] - 3s 178us/sample - loss: 0.5717 - categorical_accuracy: 0.7469 - val_loss: 0.5585 - val_categorical_accuracy: 0.7543\n",
            "Epoch 187/600\n",
            "16342/16342 [==============================] - 3s 179us/sample - loss: 0.5658 - categorical_accuracy: 0.7520 - val_loss: 0.5491 - val_categorical_accuracy: 0.7582\n",
            "Epoch 188/600\n",
            "16342/16342 [==============================] - 3s 178us/sample - loss: 0.5599 - categorical_accuracy: 0.7514 - val_loss: 0.5846 - val_categorical_accuracy: 0.7342\n",
            "Epoch 189/600\n",
            "16342/16342 [==============================] - 3s 178us/sample - loss: 0.5630 - categorical_accuracy: 0.7525 - val_loss: 0.5561 - val_categorical_accuracy: 0.7533\n",
            "Epoch 190/600\n",
            "16342/16342 [==============================] - 3s 179us/sample - loss: 0.5759 - categorical_accuracy: 0.7451 - val_loss: 0.5716 - val_categorical_accuracy: 0.7391\n",
            "Epoch 191/600\n",
            "16342/16342 [==============================] - 3s 178us/sample - loss: 0.5724 - categorical_accuracy: 0.7469 - val_loss: 0.5906 - val_categorical_accuracy: 0.7357\n",
            "Epoch 192/600\n",
            "16342/16342 [==============================] - 3s 178us/sample - loss: 0.5688 - categorical_accuracy: 0.7486 - val_loss: 0.5558 - val_categorical_accuracy: 0.7538\n",
            "Epoch 193/600\n",
            "16342/16342 [==============================] - 3s 178us/sample - loss: 0.5770 - categorical_accuracy: 0.7463 - val_loss: 0.6410 - val_categorical_accuracy: 0.7073\n",
            "Epoch 194/600\n",
            "16342/16342 [==============================] - 3s 178us/sample - loss: 0.5586 - categorical_accuracy: 0.7558 - val_loss: 0.5506 - val_categorical_accuracy: 0.7587\n",
            "Epoch 195/600\n",
            "16342/16342 [==============================] - 3s 178us/sample - loss: 0.5756 - categorical_accuracy: 0.7427 - val_loss: 0.6425 - val_categorical_accuracy: 0.7004\n",
            "Epoch 196/600\n",
            "16342/16342 [==============================] - 3s 178us/sample - loss: 0.5637 - categorical_accuracy: 0.7532 - val_loss: 0.5712 - val_categorical_accuracy: 0.7509\n",
            "Epoch 197/600\n",
            "16342/16342 [==============================] - 3s 177us/sample - loss: 0.5651 - categorical_accuracy: 0.7499 - val_loss: 0.5505 - val_categorical_accuracy: 0.7528\n",
            "Epoch 198/600\n",
            "16342/16342 [==============================] - 3s 177us/sample - loss: 0.5671 - categorical_accuracy: 0.7500 - val_loss: 0.6118 - val_categorical_accuracy: 0.7264\n",
            "Epoch 199/600\n",
            "16342/16342 [==============================] - 3s 178us/sample - loss: 0.5663 - categorical_accuracy: 0.7502 - val_loss: 0.5647 - val_categorical_accuracy: 0.7504\n",
            "Epoch 200/600\n",
            "16342/16342 [==============================] - 3s 178us/sample - loss: 0.5570 - categorical_accuracy: 0.7530 - val_loss: 0.5769 - val_categorical_accuracy: 0.7342\n",
            "Epoch 201/600\n",
            "16342/16342 [==============================] - 3s 178us/sample - loss: 0.5686 - categorical_accuracy: 0.7497 - val_loss: 0.5520 - val_categorical_accuracy: 0.7513\n",
            "Epoch 202/600\n",
            "16342/16342 [==============================] - 3s 178us/sample - loss: 0.5702 - categorical_accuracy: 0.7509 - val_loss: 0.5701 - val_categorical_accuracy: 0.7425\n",
            "Epoch 203/600\n",
            "16342/16342 [==============================] - 3s 178us/sample - loss: 0.5594 - categorical_accuracy: 0.7533 - val_loss: 0.5655 - val_categorical_accuracy: 0.7386\n",
            "Epoch 204/600\n",
            "16342/16342 [==============================] - 3s 179us/sample - loss: 0.5613 - categorical_accuracy: 0.7527 - val_loss: 0.5619 - val_categorical_accuracy: 0.7425\n",
            "Epoch 205/600\n",
            "16342/16342 [==============================] - 3s 178us/sample - loss: 0.5626 - categorical_accuracy: 0.7538 - val_loss: 0.5814 - val_categorical_accuracy: 0.7425\n",
            "Epoch 206/600\n",
            "16342/16342 [==============================] - 3s 178us/sample - loss: 0.5745 - categorical_accuracy: 0.7463 - val_loss: 0.5624 - val_categorical_accuracy: 0.7474\n",
            "Epoch 207/600\n",
            "16342/16342 [==============================] - 3s 178us/sample - loss: 0.5748 - categorical_accuracy: 0.7443 - val_loss: 0.5453 - val_categorical_accuracy: 0.7651\n",
            "Epoch 208/600\n",
            "16342/16342 [==============================] - 3s 178us/sample - loss: 0.5532 - categorical_accuracy: 0.7591 - val_loss: 0.5980 - val_categorical_accuracy: 0.7254\n",
            "Epoch 209/600\n",
            "16342/16342 [==============================] - 3s 178us/sample - loss: 0.5609 - categorical_accuracy: 0.7520 - val_loss: 0.5520 - val_categorical_accuracy: 0.7499\n",
            "Epoch 210/600\n",
            "16342/16342 [==============================] - 3s 178us/sample - loss: 0.5573 - categorical_accuracy: 0.7541 - val_loss: 0.5417 - val_categorical_accuracy: 0.7641\n",
            "Epoch 211/600\n",
            "16342/16342 [==============================] - 3s 178us/sample - loss: 0.5638 - categorical_accuracy: 0.7530 - val_loss: 0.5409 - val_categorical_accuracy: 0.7621\n",
            "Epoch 212/600\n",
            "16342/16342 [==============================] - 3s 178us/sample - loss: 0.5451 - categorical_accuracy: 0.7626 - val_loss: 0.5419 - val_categorical_accuracy: 0.7558\n",
            "Epoch 213/600\n",
            "16342/16342 [==============================] - 3s 178us/sample - loss: 0.5666 - categorical_accuracy: 0.7478 - val_loss: 0.5594 - val_categorical_accuracy: 0.7592\n",
            "Epoch 214/600\n",
            "16342/16342 [==============================] - 3s 178us/sample - loss: 0.5642 - categorical_accuracy: 0.7477 - val_loss: 0.5578 - val_categorical_accuracy: 0.7577\n",
            "Epoch 215/600\n",
            "16342/16342 [==============================] - 3s 177us/sample - loss: 0.5513 - categorical_accuracy: 0.7596 - val_loss: 0.5614 - val_categorical_accuracy: 0.7509\n",
            "Epoch 216/600\n",
            "16342/16342 [==============================] - 3s 178us/sample - loss: 0.5601 - categorical_accuracy: 0.7522 - val_loss: 0.5706 - val_categorical_accuracy: 0.7435\n",
            "Epoch 217/600\n",
            "16342/16342 [==============================] - 3s 178us/sample - loss: 0.5693 - categorical_accuracy: 0.7469 - val_loss: 0.5590 - val_categorical_accuracy: 0.7509\n",
            "Epoch 218/600\n",
            "16342/16342 [==============================] - 3s 178us/sample - loss: 0.5505 - categorical_accuracy: 0.7596 - val_loss: 0.5933 - val_categorical_accuracy: 0.7283\n",
            "Epoch 219/600\n",
            "16342/16342 [==============================] - 3s 178us/sample - loss: 0.5567 - categorical_accuracy: 0.7550 - val_loss: 0.5438 - val_categorical_accuracy: 0.7660\n",
            "Epoch 220/600\n",
            "16342/16342 [==============================] - 3s 178us/sample - loss: 0.5526 - categorical_accuracy: 0.7567 - val_loss: 0.6183 - val_categorical_accuracy: 0.7151\n",
            "Epoch 221/600\n",
            "16342/16342 [==============================] - 3s 178us/sample - loss: 0.5650 - categorical_accuracy: 0.7494 - val_loss: 0.5410 - val_categorical_accuracy: 0.7655\n",
            "Epoch 222/600\n",
            "16342/16342 [==============================] - 3s 178us/sample - loss: 0.5524 - categorical_accuracy: 0.7545 - val_loss: 0.5603 - val_categorical_accuracy: 0.7509\n",
            "Epoch 223/600\n",
            "16342/16342 [==============================] - 3s 178us/sample - loss: 0.5598 - categorical_accuracy: 0.7528 - val_loss: 0.5741 - val_categorical_accuracy: 0.7440\n",
            "Epoch 224/600\n",
            "16342/16342 [==============================] - 3s 178us/sample - loss: 0.5653 - categorical_accuracy: 0.7499 - val_loss: 0.5715 - val_categorical_accuracy: 0.7352\n",
            "Epoch 225/600\n",
            "16342/16342 [==============================] - 3s 178us/sample - loss: 0.5635 - categorical_accuracy: 0.7517 - val_loss: 0.5946 - val_categorical_accuracy: 0.7445\n",
            "Epoch 226/600\n",
            "16342/16342 [==============================] - 3s 178us/sample - loss: 0.5662 - categorical_accuracy: 0.7510 - val_loss: 0.5957 - val_categorical_accuracy: 0.7352\n",
            "Epoch 227/600\n",
            "16342/16342 [==============================] - 3s 178us/sample - loss: 0.5522 - categorical_accuracy: 0.7582 - val_loss: 0.5437 - val_categorical_accuracy: 0.7606\n",
            "Epoch 228/600\n",
            "16342/16342 [==============================] - 3s 178us/sample - loss: 0.5614 - categorical_accuracy: 0.7538 - val_loss: 0.5441 - val_categorical_accuracy: 0.7592\n",
            "Epoch 229/600\n",
            "16342/16342 [==============================] - 3s 178us/sample - loss: 0.5595 - categorical_accuracy: 0.7515 - val_loss: 0.5552 - val_categorical_accuracy: 0.7484\n",
            "Epoch 230/600\n",
            "16342/16342 [==============================] - 3s 178us/sample - loss: 0.5645 - categorical_accuracy: 0.7503 - val_loss: 0.5545 - val_categorical_accuracy: 0.7567\n",
            "Epoch 231/600\n",
            "16342/16342 [==============================] - 3s 178us/sample - loss: 0.5532 - categorical_accuracy: 0.7588 - val_loss: 0.7132 - val_categorical_accuracy: 0.6745\n",
            "Epoch 232/600\n",
            "16342/16342 [==============================] - 3s 178us/sample - loss: 0.5588 - categorical_accuracy: 0.7563 - val_loss: 0.5960 - val_categorical_accuracy: 0.7283\n",
            "Epoch 233/600\n",
            "16342/16342 [==============================] - 3s 178us/sample - loss: 0.5664 - categorical_accuracy: 0.7500 - val_loss: 0.5427 - val_categorical_accuracy: 0.7660\n",
            "Epoch 234/600\n",
            "16342/16342 [==============================] - 3s 178us/sample - loss: 0.5461 - categorical_accuracy: 0.7610 - val_loss: 0.5589 - val_categorical_accuracy: 0.7435\n",
            "Epoch 235/600\n",
            "16342/16342 [==============================] - 3s 178us/sample - loss: 0.5671 - categorical_accuracy: 0.7470 - val_loss: 0.5605 - val_categorical_accuracy: 0.7528\n",
            "Epoch 236/600\n",
            "16342/16342 [==============================] - 3s 178us/sample - loss: 0.5605 - categorical_accuracy: 0.7515 - val_loss: 0.5535 - val_categorical_accuracy: 0.7616\n",
            "Epoch 237/600\n",
            "16342/16342 [==============================] - 3s 178us/sample - loss: 0.5438 - categorical_accuracy: 0.7623 - val_loss: 0.5485 - val_categorical_accuracy: 0.7558\n",
            "Epoch 238/600\n",
            "16342/16342 [==============================] - 3s 178us/sample - loss: 0.5589 - categorical_accuracy: 0.7543 - val_loss: 0.6261 - val_categorical_accuracy: 0.7151\n",
            "Epoch 239/600\n",
            "16342/16342 [==============================] - 3s 178us/sample - loss: 0.5465 - categorical_accuracy: 0.7608 - val_loss: 0.6243 - val_categorical_accuracy: 0.7112\n",
            "Epoch 240/600\n",
            "16342/16342 [==============================] - 3s 177us/sample - loss: 0.5623 - categorical_accuracy: 0.7510 - val_loss: 0.6049 - val_categorical_accuracy: 0.7141\n",
            "Epoch 241/600\n",
            "16342/16342 [==============================] - 3s 177us/sample - loss: 0.5539 - categorical_accuracy: 0.7555 - val_loss: 0.5500 - val_categorical_accuracy: 0.7592\n",
            "Epoch 242/600\n",
            "16342/16342 [==============================] - 3s 178us/sample - loss: 0.5389 - categorical_accuracy: 0.7642 - val_loss: 0.5571 - val_categorical_accuracy: 0.7489\n",
            "Epoch 243/600\n",
            "16342/16342 [==============================] - 3s 177us/sample - loss: 0.5637 - categorical_accuracy: 0.7511 - val_loss: 0.5953 - val_categorical_accuracy: 0.7274\n",
            "Epoch 244/600\n",
            "16342/16342 [==============================] - 3s 177us/sample - loss: 0.5498 - categorical_accuracy: 0.7589 - val_loss: 0.5908 - val_categorical_accuracy: 0.7254\n",
            "Epoch 245/600\n",
            "16342/16342 [==============================] - 3s 179us/sample - loss: 0.5488 - categorical_accuracy: 0.7602 - val_loss: 0.5499 - val_categorical_accuracy: 0.7592\n",
            "Epoch 246/600\n",
            "16342/16342 [==============================] - 3s 178us/sample - loss: 0.5661 - categorical_accuracy: 0.7518 - val_loss: 0.5892 - val_categorical_accuracy: 0.7239\n",
            "Epoch 247/600\n",
            "16342/16342 [==============================] - 3s 178us/sample - loss: 0.5450 - categorical_accuracy: 0.7615 - val_loss: 0.5853 - val_categorical_accuracy: 0.7293\n",
            "Epoch 248/600\n",
            "16342/16342 [==============================] - 3s 178us/sample - loss: 0.5503 - categorical_accuracy: 0.7601 - val_loss: 0.5539 - val_categorical_accuracy: 0.7489\n",
            "Epoch 249/600\n",
            "16342/16342 [==============================] - 3s 178us/sample - loss: 0.5523 - categorical_accuracy: 0.7590 - val_loss: 0.5436 - val_categorical_accuracy: 0.7636\n",
            "Epoch 250/600\n",
            "16342/16342 [==============================] - 3s 178us/sample - loss: 0.5597 - categorical_accuracy: 0.7533 - val_loss: 0.5429 - val_categorical_accuracy: 0.7611\n",
            "Epoch 251/600\n",
            "16342/16342 [==============================] - 3s 177us/sample - loss: 0.5448 - categorical_accuracy: 0.7631 - val_loss: 0.5678 - val_categorical_accuracy: 0.7484\n",
            "Epoch 252/600\n",
            "16342/16342 [==============================] - 3s 177us/sample - loss: 0.5429 - categorical_accuracy: 0.7647 - val_loss: 0.5379 - val_categorical_accuracy: 0.7651\n",
            "Epoch 253/600\n",
            "16342/16342 [==============================] - 3s 178us/sample - loss: 0.5499 - categorical_accuracy: 0.7599 - val_loss: 0.5366 - val_categorical_accuracy: 0.7655\n",
            "Epoch 254/600\n",
            "16342/16342 [==============================] - 3s 177us/sample - loss: 0.5531 - categorical_accuracy: 0.7586 - val_loss: 0.5931 - val_categorical_accuracy: 0.7376\n",
            "Epoch 255/600\n",
            "16342/16342 [==============================] - 3s 177us/sample - loss: 0.5516 - categorical_accuracy: 0.7585 - val_loss: 0.6022 - val_categorical_accuracy: 0.7234\n",
            "Epoch 256/600\n",
            "16342/16342 [==============================] - 3s 177us/sample - loss: 0.5625 - categorical_accuracy: 0.7463 - val_loss: 0.5514 - val_categorical_accuracy: 0.7562\n",
            "Epoch 257/600\n",
            "16342/16342 [==============================] - 3s 177us/sample - loss: 0.5481 - categorical_accuracy: 0.7585 - val_loss: 0.5730 - val_categorical_accuracy: 0.7396\n",
            "Epoch 258/600\n",
            "16342/16342 [==============================] - 3s 177us/sample - loss: 0.5595 - categorical_accuracy: 0.7539 - val_loss: 0.5839 - val_categorical_accuracy: 0.7450\n",
            "Epoch 259/600\n",
            "16342/16342 [==============================] - 3s 178us/sample - loss: 0.5395 - categorical_accuracy: 0.7626 - val_loss: 0.5461 - val_categorical_accuracy: 0.7567\n",
            "Epoch 260/600\n",
            "16342/16342 [==============================] - 3s 178us/sample - loss: 0.5539 - categorical_accuracy: 0.7530 - val_loss: 0.5598 - val_categorical_accuracy: 0.7479\n",
            "Epoch 261/600\n",
            "16342/16342 [==============================] - 3s 177us/sample - loss: 0.5434 - categorical_accuracy: 0.7628 - val_loss: 0.5796 - val_categorical_accuracy: 0.7401\n",
            "Epoch 262/600\n",
            "16342/16342 [==============================] - 3s 178us/sample - loss: 0.5481 - categorical_accuracy: 0.7586 - val_loss: 0.5414 - val_categorical_accuracy: 0.7616\n",
            "Epoch 263/600\n",
            "16342/16342 [==============================] - 3s 178us/sample - loss: 0.5486 - categorical_accuracy: 0.7599 - val_loss: 0.5793 - val_categorical_accuracy: 0.7313\n",
            "Epoch 264/600\n",
            "16342/16342 [==============================] - 3s 178us/sample - loss: 0.5522 - categorical_accuracy: 0.7566 - val_loss: 0.5432 - val_categorical_accuracy: 0.7597\n",
            "Epoch 265/600\n",
            "16342/16342 [==============================] - 3s 178us/sample - loss: 0.5465 - categorical_accuracy: 0.7583 - val_loss: 0.5530 - val_categorical_accuracy: 0.7577\n",
            "Epoch 266/600\n",
            "16342/16342 [==============================] - 3s 178us/sample - loss: 0.5437 - categorical_accuracy: 0.7620 - val_loss: 0.6252 - val_categorical_accuracy: 0.7161\n",
            "Epoch 267/600\n",
            "16342/16342 [==============================] - 3s 178us/sample - loss: 0.5487 - categorical_accuracy: 0.7568 - val_loss: 0.5767 - val_categorical_accuracy: 0.7372\n",
            "Epoch 268/600\n",
            "16342/16342 [==============================] - 3s 178us/sample - loss: 0.5383 - categorical_accuracy: 0.7645 - val_loss: 0.5445 - val_categorical_accuracy: 0.7572\n",
            "Epoch 269/600\n",
            "16342/16342 [==============================] - 3s 178us/sample - loss: 0.5483 - categorical_accuracy: 0.7601 - val_loss: 0.5491 - val_categorical_accuracy: 0.7489\n",
            "Epoch 270/600\n",
            "16342/16342 [==============================] - 3s 178us/sample - loss: 0.5437 - categorical_accuracy: 0.7611 - val_loss: 0.5600 - val_categorical_accuracy: 0.7484\n",
            "Epoch 271/600\n",
            "16342/16342 [==============================] - 3s 178us/sample - loss: 0.5500 - categorical_accuracy: 0.7584 - val_loss: 0.5676 - val_categorical_accuracy: 0.7543\n",
            "Epoch 272/600\n",
            "16342/16342 [==============================] - 3s 177us/sample - loss: 0.5500 - categorical_accuracy: 0.7580 - val_loss: 0.5526 - val_categorical_accuracy: 0.7523\n",
            "Epoch 273/600\n",
            "16342/16342 [==============================] - 3s 178us/sample - loss: 0.5373 - categorical_accuracy: 0.7637 - val_loss: 0.5359 - val_categorical_accuracy: 0.7641\n",
            "Epoch 274/600\n",
            "16342/16342 [==============================] - 3s 178us/sample - loss: 0.5437 - categorical_accuracy: 0.7623 - val_loss: 0.5345 - val_categorical_accuracy: 0.7729\n",
            "Epoch 275/600\n",
            "16342/16342 [==============================] - 3s 177us/sample - loss: 0.5447 - categorical_accuracy: 0.7614 - val_loss: 0.5396 - val_categorical_accuracy: 0.7621\n",
            "Epoch 276/600\n",
            "16342/16342 [==============================] - 3s 178us/sample - loss: 0.5510 - categorical_accuracy: 0.7592 - val_loss: 0.5447 - val_categorical_accuracy: 0.7538\n",
            "Epoch 277/600\n",
            "16342/16342 [==============================] - 3s 178us/sample - loss: 0.5401 - categorical_accuracy: 0.7621 - val_loss: 0.5317 - val_categorical_accuracy: 0.7724\n",
            "Epoch 278/600\n",
            "16342/16342 [==============================] - 3s 178us/sample - loss: 0.5473 - categorical_accuracy: 0.7569 - val_loss: 0.5460 - val_categorical_accuracy: 0.7626\n",
            "Epoch 279/600\n",
            "16342/16342 [==============================] - 3s 178us/sample - loss: 0.5431 - categorical_accuracy: 0.7603 - val_loss: 0.5399 - val_categorical_accuracy: 0.7626\n",
            "Epoch 280/600\n",
            "16342/16342 [==============================] - 3s 179us/sample - loss: 0.5392 - categorical_accuracy: 0.7625 - val_loss: 0.5417 - val_categorical_accuracy: 0.7587\n",
            "Epoch 281/600\n",
            "16342/16342 [==============================] - 3s 178us/sample - loss: 0.5553 - categorical_accuracy: 0.7544 - val_loss: 0.6214 - val_categorical_accuracy: 0.7298\n",
            "Epoch 282/600\n",
            "16342/16342 [==============================] - 3s 178us/sample - loss: 0.5467 - categorical_accuracy: 0.7602 - val_loss: 0.5410 - val_categorical_accuracy: 0.7690\n",
            "Epoch 283/600\n",
            "16342/16342 [==============================] - 3s 179us/sample - loss: 0.5532 - categorical_accuracy: 0.7584 - val_loss: 0.5449 - val_categorical_accuracy: 0.7582\n",
            "Epoch 284/600\n",
            "16342/16342 [==============================] - 3s 177us/sample - loss: 0.5399 - categorical_accuracy: 0.7639 - val_loss: 0.5635 - val_categorical_accuracy: 0.7484\n",
            "Epoch 285/600\n",
            "16342/16342 [==============================] - 3s 178us/sample - loss: 0.5472 - categorical_accuracy: 0.7588 - val_loss: 0.6131 - val_categorical_accuracy: 0.7234\n",
            "Epoch 286/600\n",
            "16342/16342 [==============================] - 3s 178us/sample - loss: 0.5316 - categorical_accuracy: 0.7675 - val_loss: 0.5333 - val_categorical_accuracy: 0.7626\n",
            "Epoch 287/600\n",
            "16342/16342 [==============================] - 3s 178us/sample - loss: 0.5406 - categorical_accuracy: 0.7621 - val_loss: 0.5545 - val_categorical_accuracy: 0.7533\n",
            "Epoch 288/600\n",
            "16342/16342 [==============================] - 3s 179us/sample - loss: 0.5437 - categorical_accuracy: 0.7601 - val_loss: 0.5329 - val_categorical_accuracy: 0.7646\n",
            "Epoch 289/600\n",
            "16342/16342 [==============================] - 3s 178us/sample - loss: 0.5337 - categorical_accuracy: 0.7692 - val_loss: 0.5560 - val_categorical_accuracy: 0.7469\n",
            "Epoch 290/600\n",
            "16342/16342 [==============================] - 3s 178us/sample - loss: 0.5537 - categorical_accuracy: 0.7526 - val_loss: 0.5438 - val_categorical_accuracy: 0.7509\n",
            "Epoch 291/600\n",
            "16342/16342 [==============================] - 3s 177us/sample - loss: 0.5495 - categorical_accuracy: 0.7585 - val_loss: 0.5578 - val_categorical_accuracy: 0.7465\n",
            "Epoch 292/600\n",
            "16342/16342 [==============================] - 3s 177us/sample - loss: 0.5376 - categorical_accuracy: 0.7658 - val_loss: 0.5383 - val_categorical_accuracy: 0.7685\n",
            "Epoch 293/600\n",
            "16342/16342 [==============================] - 3s 178us/sample - loss: 0.5485 - categorical_accuracy: 0.7558 - val_loss: 0.5401 - val_categorical_accuracy: 0.7651\n",
            "Epoch 294/600\n",
            "16342/16342 [==============================] - 3s 177us/sample - loss: 0.5444 - categorical_accuracy: 0.7610 - val_loss: 0.5718 - val_categorical_accuracy: 0.7513\n",
            "Epoch 295/600\n",
            "16342/16342 [==============================] - 3s 179us/sample - loss: 0.5443 - categorical_accuracy: 0.7601 - val_loss: 0.5460 - val_categorical_accuracy: 0.7577\n",
            "Epoch 296/600\n",
            "16342/16342 [==============================] - 3s 178us/sample - loss: 0.5279 - categorical_accuracy: 0.7698 - val_loss: 0.5326 - val_categorical_accuracy: 0.7670\n",
            "Epoch 297/600\n",
            "16342/16342 [==============================] - 3s 178us/sample - loss: 0.5455 - categorical_accuracy: 0.7589 - val_loss: 0.5641 - val_categorical_accuracy: 0.7553\n",
            "Epoch 298/600\n",
            "16342/16342 [==============================] - 3s 178us/sample - loss: 0.5418 - categorical_accuracy: 0.7610 - val_loss: 0.5802 - val_categorical_accuracy: 0.7357\n",
            "Epoch 299/600\n",
            "16342/16342 [==============================] - 3s 179us/sample - loss: 0.5428 - categorical_accuracy: 0.7599 - val_loss: 0.5324 - val_categorical_accuracy: 0.7724\n",
            "Epoch 300/600\n",
            "16342/16342 [==============================] - 3s 178us/sample - loss: 0.5466 - categorical_accuracy: 0.7601 - val_loss: 0.5651 - val_categorical_accuracy: 0.7509\n",
            "Epoch 301/600\n",
            "16342/16342 [==============================] - 3s 177us/sample - loss: 0.5417 - categorical_accuracy: 0.7644 - val_loss: 0.5441 - val_categorical_accuracy: 0.7513\n",
            "Epoch 302/600\n",
            "16342/16342 [==============================] - 3s 178us/sample - loss: 0.5440 - categorical_accuracy: 0.7594 - val_loss: 0.6076 - val_categorical_accuracy: 0.7308\n",
            "Epoch 303/600\n",
            "16342/16342 [==============================] - 3s 178us/sample - loss: 0.5451 - categorical_accuracy: 0.7609 - val_loss: 0.5629 - val_categorical_accuracy: 0.7523\n",
            "Epoch 304/600\n",
            "16342/16342 [==============================] - 3s 177us/sample - loss: 0.5300 - categorical_accuracy: 0.7697 - val_loss: 0.5533 - val_categorical_accuracy: 0.7582\n",
            "Epoch 305/600\n",
            "16342/16342 [==============================] - 3s 178us/sample - loss: 0.5303 - categorical_accuracy: 0.7705 - val_loss: 0.5379 - val_categorical_accuracy: 0.7660\n",
            "Epoch 306/600\n",
            "16342/16342 [==============================] - 3s 178us/sample - loss: 0.5349 - categorical_accuracy: 0.7675 - val_loss: 0.5680 - val_categorical_accuracy: 0.7440\n",
            "Epoch 307/600\n",
            "16342/16342 [==============================] - 3s 178us/sample - loss: 0.5460 - categorical_accuracy: 0.7582 - val_loss: 0.5359 - val_categorical_accuracy: 0.7675\n",
            "Epoch 308/600\n",
            "16342/16342 [==============================] - 3s 178us/sample - loss: 0.5228 - categorical_accuracy: 0.7749 - val_loss: 0.5354 - val_categorical_accuracy: 0.7577\n",
            "Epoch 309/600\n",
            "16342/16342 [==============================] - 3s 177us/sample - loss: 0.5508 - categorical_accuracy: 0.7573 - val_loss: 0.5412 - val_categorical_accuracy: 0.7597\n",
            "Epoch 310/600\n",
            "16342/16342 [==============================] - 3s 178us/sample - loss: 0.5312 - categorical_accuracy: 0.7678 - val_loss: 0.5351 - val_categorical_accuracy: 0.7616\n",
            "Epoch 311/600\n",
            "16342/16342 [==============================] - 3s 178us/sample - loss: 0.5324 - categorical_accuracy: 0.7664 - val_loss: 0.5478 - val_categorical_accuracy: 0.7562\n",
            "Epoch 312/600\n",
            "16342/16342 [==============================] - 3s 178us/sample - loss: 0.5439 - categorical_accuracy: 0.7598 - val_loss: 0.6230 - val_categorical_accuracy: 0.7249\n",
            "Epoch 313/600\n",
            "16342/16342 [==============================] - 3s 178us/sample - loss: 0.5362 - categorical_accuracy: 0.7615 - val_loss: 0.5464 - val_categorical_accuracy: 0.7440\n",
            "Epoch 314/600\n",
            "16342/16342 [==============================] - 3s 178us/sample - loss: 0.5339 - categorical_accuracy: 0.7644 - val_loss: 0.5637 - val_categorical_accuracy: 0.7406\n",
            "Epoch 315/600\n",
            "16342/16342 [==============================] - 3s 178us/sample - loss: 0.5421 - categorical_accuracy: 0.7620 - val_loss: 0.5295 - val_categorical_accuracy: 0.7729\n",
            "Epoch 316/600\n",
            "16342/16342 [==============================] - 3s 178us/sample - loss: 0.5353 - categorical_accuracy: 0.7628 - val_loss: 0.5478 - val_categorical_accuracy: 0.7695\n",
            "Epoch 317/600\n",
            "16342/16342 [==============================] - 3s 178us/sample - loss: 0.5358 - categorical_accuracy: 0.7648 - val_loss: 0.5370 - val_categorical_accuracy: 0.7660\n",
            "Epoch 318/600\n",
            "16342/16342 [==============================] - 3s 178us/sample - loss: 0.5346 - categorical_accuracy: 0.7635 - val_loss: 0.5564 - val_categorical_accuracy: 0.7469\n",
            "Epoch 319/600\n",
            "16342/16342 [==============================] - 3s 178us/sample - loss: 0.5428 - categorical_accuracy: 0.7634 - val_loss: 0.5445 - val_categorical_accuracy: 0.7626\n",
            "Epoch 320/600\n",
            "16342/16342 [==============================] - 3s 178us/sample - loss: 0.5381 - categorical_accuracy: 0.7630 - val_loss: 0.5555 - val_categorical_accuracy: 0.7533\n",
            "Epoch 321/600\n",
            "16342/16342 [==============================] - 3s 178us/sample - loss: 0.5408 - categorical_accuracy: 0.7661 - val_loss: 0.5393 - val_categorical_accuracy: 0.7748\n",
            "Epoch 322/600\n",
            "16342/16342 [==============================] - 3s 177us/sample - loss: 0.5252 - categorical_accuracy: 0.7683 - val_loss: 0.5576 - val_categorical_accuracy: 0.7479\n",
            "Epoch 323/600\n",
            "16342/16342 [==============================] - 3s 177us/sample - loss: 0.5350 - categorical_accuracy: 0.7655 - val_loss: 0.5254 - val_categorical_accuracy: 0.7763\n",
            "Epoch 324/600\n",
            "16342/16342 [==============================] - 3s 178us/sample - loss: 0.5243 - categorical_accuracy: 0.7706 - val_loss: 0.5689 - val_categorical_accuracy: 0.7543\n",
            "Epoch 325/600\n",
            "16342/16342 [==============================] - 3s 178us/sample - loss: 0.5321 - categorical_accuracy: 0.7666 - val_loss: 0.6058 - val_categorical_accuracy: 0.7210\n",
            "Epoch 326/600\n",
            "16342/16342 [==============================] - 3s 179us/sample - loss: 0.5315 - categorical_accuracy: 0.7666 - val_loss: 0.5394 - val_categorical_accuracy: 0.7636\n",
            "Epoch 327/600\n",
            "16342/16342 [==============================] - 3s 178us/sample - loss: 0.5415 - categorical_accuracy: 0.7631 - val_loss: 0.5386 - val_categorical_accuracy: 0.7670\n",
            "Epoch 328/600\n",
            "16342/16342 [==============================] - 3s 178us/sample - loss: 0.5286 - categorical_accuracy: 0.7673 - val_loss: 0.5226 - val_categorical_accuracy: 0.7748\n",
            "Epoch 329/600\n",
            "16342/16342 [==============================] - 3s 178us/sample - loss: 0.5325 - categorical_accuracy: 0.7634 - val_loss: 0.5246 - val_categorical_accuracy: 0.7788\n",
            "Epoch 330/600\n",
            "16342/16342 [==============================] - 3s 178us/sample - loss: 0.5383 - categorical_accuracy: 0.7629 - val_loss: 0.5338 - val_categorical_accuracy: 0.7675\n",
            "Epoch 331/600\n",
            "16342/16342 [==============================] - 3s 177us/sample - loss: 0.5363 - categorical_accuracy: 0.7661 - val_loss: 0.5396 - val_categorical_accuracy: 0.7675\n",
            "Epoch 332/600\n",
            "16342/16342 [==============================] - 3s 178us/sample - loss: 0.5367 - categorical_accuracy: 0.7639 - val_loss: 0.5710 - val_categorical_accuracy: 0.7518\n",
            "Epoch 333/600\n",
            "16342/16342 [==============================] - 3s 179us/sample - loss: 0.5187 - categorical_accuracy: 0.7755 - val_loss: 0.5237 - val_categorical_accuracy: 0.7704\n",
            "Epoch 334/600\n",
            "16342/16342 [==============================] - 3s 178us/sample - loss: 0.5300 - categorical_accuracy: 0.7673 - val_loss: 0.5524 - val_categorical_accuracy: 0.7587\n",
            "Epoch 335/600\n",
            "16342/16342 [==============================] - 3s 178us/sample - loss: 0.5401 - categorical_accuracy: 0.7628 - val_loss: 0.5340 - val_categorical_accuracy: 0.7709\n",
            "Epoch 336/600\n",
            "16342/16342 [==============================] - 3s 179us/sample - loss: 0.5184 - categorical_accuracy: 0.7775 - val_loss: 0.5400 - val_categorical_accuracy: 0.7660\n",
            "Epoch 337/600\n",
            "16342/16342 [==============================] - 3s 178us/sample - loss: 0.5280 - categorical_accuracy: 0.7666 - val_loss: 0.5626 - val_categorical_accuracy: 0.7587\n",
            "Epoch 338/600\n",
            "16342/16342 [==============================] - 3s 177us/sample - loss: 0.5362 - categorical_accuracy: 0.7638 - val_loss: 0.5328 - val_categorical_accuracy: 0.7587\n",
            "Epoch 339/600\n",
            "16342/16342 [==============================] - 3s 178us/sample - loss: 0.5352 - categorical_accuracy: 0.7669 - val_loss: 0.5320 - val_categorical_accuracy: 0.7704\n",
            "Epoch 340/600\n",
            "16342/16342 [==============================] - 3s 178us/sample - loss: 0.5382 - categorical_accuracy: 0.7607 - val_loss: 0.5807 - val_categorical_accuracy: 0.7239\n",
            "Epoch 341/600\n",
            "16342/16342 [==============================] - 3s 178us/sample - loss: 0.5286 - categorical_accuracy: 0.7684 - val_loss: 0.5340 - val_categorical_accuracy: 0.7660\n",
            "Epoch 342/600\n",
            "16342/16342 [==============================] - 3s 178us/sample - loss: 0.5176 - categorical_accuracy: 0.7738 - val_loss: 0.5291 - val_categorical_accuracy: 0.7680\n",
            "Epoch 343/600\n",
            "16342/16342 [==============================] - 3s 178us/sample - loss: 0.5238 - categorical_accuracy: 0.7740 - val_loss: 0.5824 - val_categorical_accuracy: 0.7513\n",
            "Epoch 344/600\n",
            "16342/16342 [==============================] - 3s 179us/sample - loss: 0.5357 - categorical_accuracy: 0.7690 - val_loss: 0.5221 - val_categorical_accuracy: 0.7753\n",
            "Epoch 345/600\n",
            "16342/16342 [==============================] - 3s 178us/sample - loss: 0.5392 - categorical_accuracy: 0.7653 - val_loss: 0.5280 - val_categorical_accuracy: 0.7753\n",
            "Epoch 346/600\n",
            "16342/16342 [==============================] - 3s 178us/sample - loss: 0.5324 - categorical_accuracy: 0.7675 - val_loss: 0.5364 - val_categorical_accuracy: 0.7680\n",
            "Epoch 347/600\n",
            "16342/16342 [==============================] - 3s 178us/sample - loss: 0.5263 - categorical_accuracy: 0.7680 - val_loss: 0.5487 - val_categorical_accuracy: 0.7611\n",
            "Epoch 348/600\n",
            "16342/16342 [==============================] - 3s 178us/sample - loss: 0.5274 - categorical_accuracy: 0.7691 - val_loss: 0.6130 - val_categorical_accuracy: 0.7132\n",
            "Epoch 349/600\n",
            "16342/16342 [==============================] - 3s 178us/sample - loss: 0.5342 - categorical_accuracy: 0.7659 - val_loss: 0.5402 - val_categorical_accuracy: 0.7734\n",
            "Epoch 350/600\n",
            "16342/16342 [==============================] - 3s 178us/sample - loss: 0.5191 - categorical_accuracy: 0.7742 - val_loss: 0.5245 - val_categorical_accuracy: 0.7739\n",
            "Epoch 351/600\n",
            "16342/16342 [==============================] - 3s 178us/sample - loss: 0.5296 - categorical_accuracy: 0.7668 - val_loss: 0.5387 - val_categorical_accuracy: 0.7651\n",
            "Epoch 352/600\n",
            "16342/16342 [==============================] - 3s 178us/sample - loss: 0.5283 - categorical_accuracy: 0.7662 - val_loss: 0.5435 - val_categorical_accuracy: 0.7567\n",
            "Epoch 353/600\n",
            "16342/16342 [==============================] - 3s 178us/sample - loss: 0.5245 - categorical_accuracy: 0.7699 - val_loss: 0.5290 - val_categorical_accuracy: 0.7665\n",
            "Epoch 354/600\n",
            "16342/16342 [==============================] - 3s 178us/sample - loss: 0.5279 - categorical_accuracy: 0.7683 - val_loss: 0.5335 - val_categorical_accuracy: 0.7651\n",
            "Epoch 355/600\n",
            "16342/16342 [==============================] - 3s 178us/sample - loss: 0.5232 - categorical_accuracy: 0.7741 - val_loss: 0.5422 - val_categorical_accuracy: 0.7577\n",
            "Epoch 356/600\n",
            "16342/16342 [==============================] - 3s 178us/sample - loss: 0.5319 - categorical_accuracy: 0.7647 - val_loss: 0.5419 - val_categorical_accuracy: 0.7543\n",
            "Epoch 357/600\n",
            "16342/16342 [==============================] - 3s 179us/sample - loss: 0.5255 - categorical_accuracy: 0.7692 - val_loss: 0.5689 - val_categorical_accuracy: 0.7474\n",
            "Epoch 358/600\n",
            "16342/16342 [==============================] - 3s 177us/sample - loss: 0.5267 - categorical_accuracy: 0.7670 - val_loss: 0.5418 - val_categorical_accuracy: 0.7646\n",
            "Epoch 359/600\n",
            "16342/16342 [==============================] - 3s 179us/sample - loss: 0.5092 - categorical_accuracy: 0.7782 - val_loss: 0.5221 - val_categorical_accuracy: 0.7797\n",
            "Epoch 360/600\n",
            "16342/16342 [==============================] - 3s 178us/sample - loss: 0.5231 - categorical_accuracy: 0.7678 - val_loss: 0.5194 - val_categorical_accuracy: 0.7748\n",
            "Epoch 361/600\n",
            "16342/16342 [==============================] - 3s 178us/sample - loss: 0.5301 - categorical_accuracy: 0.7659 - val_loss: 0.5162 - val_categorical_accuracy: 0.7788\n",
            "Epoch 362/600\n",
            "16342/16342 [==============================] - 3s 178us/sample - loss: 0.5378 - categorical_accuracy: 0.7626 - val_loss: 0.5365 - val_categorical_accuracy: 0.7597\n",
            "Epoch 363/600\n",
            "16342/16342 [==============================] - 3s 178us/sample - loss: 0.5248 - categorical_accuracy: 0.7696 - val_loss: 0.5381 - val_categorical_accuracy: 0.7562\n",
            "Epoch 364/600\n",
            "16342/16342 [==============================] - 3s 178us/sample - loss: 0.5173 - categorical_accuracy: 0.7757 - val_loss: 0.5228 - val_categorical_accuracy: 0.7719\n",
            "Epoch 365/600\n",
            "16342/16342 [==============================] - 3s 177us/sample - loss: 0.5380 - categorical_accuracy: 0.7603 - val_loss: 0.5319 - val_categorical_accuracy: 0.7748\n",
            "Epoch 366/600\n",
            "16342/16342 [==============================] - 3s 178us/sample - loss: 0.5355 - categorical_accuracy: 0.7658 - val_loss: 0.5558 - val_categorical_accuracy: 0.7567\n",
            "Epoch 367/600\n",
            "16342/16342 [==============================] - 3s 179us/sample - loss: 0.5242 - categorical_accuracy: 0.7712 - val_loss: 0.5205 - val_categorical_accuracy: 0.7792\n",
            "Epoch 368/600\n",
            "16342/16342 [==============================] - 3s 178us/sample - loss: 0.5323 - categorical_accuracy: 0.7653 - val_loss: 0.5687 - val_categorical_accuracy: 0.7445\n",
            "Epoch 369/600\n",
            "16342/16342 [==============================] - 3s 178us/sample - loss: 0.5262 - categorical_accuracy: 0.7684 - val_loss: 0.5341 - val_categorical_accuracy: 0.7655\n",
            "Epoch 370/600\n",
            "16342/16342 [==============================] - 3s 178us/sample - loss: 0.5297 - categorical_accuracy: 0.7698 - val_loss: 0.5190 - val_categorical_accuracy: 0.7797\n",
            "Epoch 371/600\n",
            "16342/16342 [==============================] - 3s 177us/sample - loss: 0.5230 - categorical_accuracy: 0.7705 - val_loss: 0.5369 - val_categorical_accuracy: 0.7616\n",
            "Epoch 372/600\n",
            "16342/16342 [==============================] - 3s 178us/sample - loss: 0.5260 - categorical_accuracy: 0.7678 - val_loss: 0.5272 - val_categorical_accuracy: 0.7606\n",
            "Epoch 373/600\n",
            "16342/16342 [==============================] - 3s 178us/sample - loss: 0.5218 - categorical_accuracy: 0.7699 - val_loss: 0.5596 - val_categorical_accuracy: 0.7636\n",
            "Epoch 374/600\n",
            "16342/16342 [==============================] - 3s 178us/sample - loss: 0.5133 - categorical_accuracy: 0.7800 - val_loss: 0.5284 - val_categorical_accuracy: 0.7690\n",
            "Epoch 375/600\n",
            "16342/16342 [==============================] - 3s 178us/sample - loss: 0.5130 - categorical_accuracy: 0.7743 - val_loss: 0.5133 - val_categorical_accuracy: 0.7788\n",
            "Epoch 376/600\n",
            "16342/16342 [==============================] - 3s 178us/sample - loss: 0.5180 - categorical_accuracy: 0.7713 - val_loss: 0.5277 - val_categorical_accuracy: 0.7670\n",
            "Epoch 377/600\n",
            "16342/16342 [==============================] - 3s 178us/sample - loss: 0.5228 - categorical_accuracy: 0.7741 - val_loss: 0.5317 - val_categorical_accuracy: 0.7714\n",
            "Epoch 378/600\n",
            "16342/16342 [==============================] - 3s 178us/sample - loss: 0.5232 - categorical_accuracy: 0.7697 - val_loss: 0.5544 - val_categorical_accuracy: 0.7499\n",
            "Epoch 379/600\n",
            "16342/16342 [==============================] - 3s 178us/sample - loss: 0.5350 - categorical_accuracy: 0.7633 - val_loss: 0.5511 - val_categorical_accuracy: 0.7494\n",
            "Epoch 380/600\n",
            "16342/16342 [==============================] - 3s 178us/sample - loss: 0.5278 - categorical_accuracy: 0.7678 - val_loss: 0.5229 - val_categorical_accuracy: 0.7675\n",
            "Epoch 381/600\n",
            "16342/16342 [==============================] - 3s 178us/sample - loss: 0.5276 - categorical_accuracy: 0.7706 - val_loss: 0.5421 - val_categorical_accuracy: 0.7592\n",
            "Epoch 382/600\n",
            "16342/16342 [==============================] - 3s 178us/sample - loss: 0.5231 - categorical_accuracy: 0.7708 - val_loss: 0.5899 - val_categorical_accuracy: 0.7342\n",
            "Epoch 383/600\n",
            "16342/16342 [==============================] - 3s 178us/sample - loss: 0.5226 - categorical_accuracy: 0.7705 - val_loss: 0.5264 - val_categorical_accuracy: 0.7744\n",
            "Epoch 384/600\n",
            "16342/16342 [==============================] - 3s 178us/sample - loss: 0.5144 - categorical_accuracy: 0.7801 - val_loss: 0.5923 - val_categorical_accuracy: 0.7293\n",
            "Epoch 385/600\n",
            "16342/16342 [==============================] - 3s 178us/sample - loss: 0.5262 - categorical_accuracy: 0.7687 - val_loss: 0.5216 - val_categorical_accuracy: 0.7734\n",
            "Epoch 386/600\n",
            "16342/16342 [==============================] - 3s 178us/sample - loss: 0.5261 - categorical_accuracy: 0.7699 - val_loss: 0.5219 - val_categorical_accuracy: 0.7768\n",
            "Epoch 387/600\n",
            "16342/16342 [==============================] - 3s 178us/sample - loss: 0.5298 - categorical_accuracy: 0.7640 - val_loss: 0.5547 - val_categorical_accuracy: 0.7567\n",
            "Epoch 388/600\n",
            "16342/16342 [==============================] - 3s 177us/sample - loss: 0.5210 - categorical_accuracy: 0.7711 - val_loss: 0.5295 - val_categorical_accuracy: 0.7621\n",
            "Epoch 389/600\n",
            "16342/16342 [==============================] - 3s 178us/sample - loss: 0.5295 - categorical_accuracy: 0.7660 - val_loss: 0.5450 - val_categorical_accuracy: 0.7621\n",
            "Epoch 390/600\n",
            "16342/16342 [==============================] - 3s 178us/sample - loss: 0.5206 - categorical_accuracy: 0.7716 - val_loss: 0.5269 - val_categorical_accuracy: 0.7660\n",
            "Epoch 391/600\n",
            "16342/16342 [==============================] - 3s 177us/sample - loss: 0.5227 - categorical_accuracy: 0.7699 - val_loss: 0.5295 - val_categorical_accuracy: 0.7631\n",
            "Epoch 392/600\n",
            "16342/16342 [==============================] - 3s 178us/sample - loss: 0.5091 - categorical_accuracy: 0.7760 - val_loss: 0.5293 - val_categorical_accuracy: 0.7758\n",
            "Epoch 393/600\n",
            "16342/16342 [==============================] - 3s 178us/sample - loss: 0.5294 - categorical_accuracy: 0.7666 - val_loss: 0.5830 - val_categorical_accuracy: 0.7401\n",
            "Epoch 394/600\n",
            "16342/16342 [==============================] - 3s 178us/sample - loss: 0.5156 - categorical_accuracy: 0.7748 - val_loss: 0.5224 - val_categorical_accuracy: 0.7719\n",
            "Epoch 395/600\n",
            "16342/16342 [==============================] - 3s 178us/sample - loss: 0.5135 - categorical_accuracy: 0.7754 - val_loss: 0.5125 - val_categorical_accuracy: 0.7739\n",
            "Epoch 396/600\n",
            "16342/16342 [==============================] - 3s 178us/sample - loss: 0.5271 - categorical_accuracy: 0.7697 - val_loss: 0.5587 - val_categorical_accuracy: 0.7543\n",
            "Epoch 397/600\n",
            "16342/16342 [==============================] - 3s 178us/sample - loss: 0.5136 - categorical_accuracy: 0.7778 - val_loss: 0.5402 - val_categorical_accuracy: 0.7719\n",
            "Epoch 398/600\n",
            "16342/16342 [==============================] - 3s 178us/sample - loss: 0.5157 - categorical_accuracy: 0.7756 - val_loss: 0.5187 - val_categorical_accuracy: 0.7753\n",
            "Epoch 399/600\n",
            "16342/16342 [==============================] - 3s 178us/sample - loss: 0.5344 - categorical_accuracy: 0.7640 - val_loss: 0.6250 - val_categorical_accuracy: 0.7093\n",
            "Epoch 400/600\n",
            "16342/16342 [==============================] - 3s 178us/sample - loss: 0.5229 - categorical_accuracy: 0.7707 - val_loss: 0.5227 - val_categorical_accuracy: 0.7739\n",
            "Epoch 401/600\n",
            "16342/16342 [==============================] - 3s 178us/sample - loss: 0.5233 - categorical_accuracy: 0.7728 - val_loss: 0.5337 - val_categorical_accuracy: 0.7572\n",
            "Epoch 402/600\n",
            "16342/16342 [==============================] - 3s 177us/sample - loss: 0.5173 - categorical_accuracy: 0.7729 - val_loss: 0.5328 - val_categorical_accuracy: 0.7675\n",
            "Epoch 403/600\n",
            "16342/16342 [==============================] - 3s 178us/sample - loss: 0.5054 - categorical_accuracy: 0.7831 - val_loss: 0.5333 - val_categorical_accuracy: 0.7734\n",
            "Epoch 404/600\n",
            "16342/16342 [==============================] - 3s 179us/sample - loss: 0.5137 - categorical_accuracy: 0.7776 - val_loss: 0.5108 - val_categorical_accuracy: 0.7802\n",
            "Epoch 405/600\n",
            "16342/16342 [==============================] - 3s 177us/sample - loss: 0.5204 - categorical_accuracy: 0.7721 - val_loss: 0.5351 - val_categorical_accuracy: 0.7660\n",
            "Epoch 406/600\n",
            "16342/16342 [==============================] - 3s 177us/sample - loss: 0.5225 - categorical_accuracy: 0.7680 - val_loss: 0.5359 - val_categorical_accuracy: 0.7631\n",
            "Epoch 407/600\n",
            "16342/16342 [==============================] - 3s 178us/sample - loss: 0.5186 - categorical_accuracy: 0.7711 - val_loss: 0.5327 - val_categorical_accuracy: 0.7680\n",
            "Epoch 408/600\n",
            "16342/16342 [==============================] - 3s 179us/sample - loss: 0.5079 - categorical_accuracy: 0.7789 - val_loss: 0.5369 - val_categorical_accuracy: 0.7636\n",
            "Epoch 409/600\n",
            "16342/16342 [==============================] - 3s 178us/sample - loss: 0.5283 - categorical_accuracy: 0.7680 - val_loss: 0.6143 - val_categorical_accuracy: 0.7205\n",
            "Epoch 410/600\n",
            "16342/16342 [==============================] - 3s 178us/sample - loss: 0.5242 - categorical_accuracy: 0.7703 - val_loss: 0.5122 - val_categorical_accuracy: 0.7807\n",
            "Epoch 411/600\n",
            "16342/16342 [==============================] - 3s 179us/sample - loss: 0.5173 - categorical_accuracy: 0.7749 - val_loss: 0.5222 - val_categorical_accuracy: 0.7739\n",
            "Epoch 412/600\n",
            "16342/16342 [==============================] - 3s 178us/sample - loss: 0.5105 - categorical_accuracy: 0.7756 - val_loss: 0.5278 - val_categorical_accuracy: 0.7660\n",
            "Epoch 413/600\n",
            "16342/16342 [==============================] - 3s 178us/sample - loss: 0.5216 - categorical_accuracy: 0.7689 - val_loss: 0.5154 - val_categorical_accuracy: 0.7744\n",
            "Epoch 414/600\n",
            "16342/16342 [==============================] - 3s 178us/sample - loss: 0.5181 - categorical_accuracy: 0.7741 - val_loss: 0.5272 - val_categorical_accuracy: 0.7695\n",
            "Epoch 415/600\n",
            "16342/16342 [==============================] - 3s 178us/sample - loss: 0.5165 - categorical_accuracy: 0.7723 - val_loss: 0.5246 - val_categorical_accuracy: 0.7753\n",
            "Epoch 416/600\n",
            "16342/16342 [==============================] - 3s 177us/sample - loss: 0.5062 - categorical_accuracy: 0.7774 - val_loss: 0.5154 - val_categorical_accuracy: 0.7802\n",
            "Epoch 417/600\n",
            "16342/16342 [==============================] - 3s 177us/sample - loss: 0.5152 - categorical_accuracy: 0.7740 - val_loss: 0.5430 - val_categorical_accuracy: 0.7602\n",
            "Epoch 418/600\n",
            "16342/16342 [==============================] - 3s 178us/sample - loss: 0.5239 - categorical_accuracy: 0.7662 - val_loss: 0.5932 - val_categorical_accuracy: 0.7259\n",
            "Epoch 419/600\n",
            "16342/16342 [==============================] - 3s 177us/sample - loss: 0.5106 - categorical_accuracy: 0.7744 - val_loss: 0.5340 - val_categorical_accuracy: 0.7626\n",
            "Epoch 420/600\n",
            "16342/16342 [==============================] - 3s 178us/sample - loss: 0.5191 - categorical_accuracy: 0.7709 - val_loss: 0.5256 - val_categorical_accuracy: 0.7744\n",
            "Epoch 421/600\n",
            "16342/16342 [==============================] - 3s 178us/sample - loss: 0.5187 - categorical_accuracy: 0.7692 - val_loss: 0.5277 - val_categorical_accuracy: 0.7719\n",
            "Epoch 422/600\n",
            "16342/16342 [==============================] - 3s 178us/sample - loss: 0.5134 - categorical_accuracy: 0.7763 - val_loss: 0.5367 - val_categorical_accuracy: 0.7562\n",
            "Epoch 423/600\n",
            "16342/16342 [==============================] - 3s 178us/sample - loss: 0.5261 - categorical_accuracy: 0.7703 - val_loss: 0.5124 - val_categorical_accuracy: 0.7832\n",
            "Epoch 424/600\n",
            "16342/16342 [==============================] - 3s 177us/sample - loss: 0.5172 - categorical_accuracy: 0.7727 - val_loss: 0.5324 - val_categorical_accuracy: 0.7744\n",
            "Epoch 425/600\n",
            "16342/16342 [==============================] - 3s 178us/sample - loss: 0.5263 - categorical_accuracy: 0.7665 - val_loss: 0.5220 - val_categorical_accuracy: 0.7788\n",
            "Epoch 426/600\n",
            "16342/16342 [==============================] - 3s 177us/sample - loss: 0.5119 - categorical_accuracy: 0.7760 - val_loss: 0.5460 - val_categorical_accuracy: 0.7553\n",
            "Epoch 427/600\n",
            "16342/16342 [==============================] - 3s 177us/sample - loss: 0.5182 - categorical_accuracy: 0.7703 - val_loss: 0.5413 - val_categorical_accuracy: 0.7592\n",
            "Epoch 428/600\n",
            "16342/16342 [==============================] - 3s 177us/sample - loss: 0.5127 - categorical_accuracy: 0.7785 - val_loss: 0.5095 - val_categorical_accuracy: 0.7792\n",
            "Epoch 429/600\n",
            "16342/16342 [==============================] - 3s 177us/sample - loss: 0.5086 - categorical_accuracy: 0.7789 - val_loss: 0.5178 - val_categorical_accuracy: 0.7739\n",
            "Epoch 430/600\n",
            "16342/16342 [==============================] - 3s 177us/sample - loss: 0.5033 - categorical_accuracy: 0.7805 - val_loss: 0.5100 - val_categorical_accuracy: 0.7773\n",
            "Epoch 431/600\n",
            "16342/16342 [==============================] - 3s 177us/sample - loss: 0.5137 - categorical_accuracy: 0.7729 - val_loss: 0.5141 - val_categorical_accuracy: 0.7812\n",
            "Epoch 432/600\n",
            "16342/16342 [==============================] - 3s 177us/sample - loss: 0.5165 - categorical_accuracy: 0.7755 - val_loss: 0.5102 - val_categorical_accuracy: 0.7744\n",
            "Epoch 433/600\n",
            "16342/16342 [==============================] - 3s 177us/sample - loss: 0.5184 - categorical_accuracy: 0.7714 - val_loss: 0.5163 - val_categorical_accuracy: 0.7753\n",
            "Epoch 434/600\n",
            "16342/16342 [==============================] - 3s 177us/sample - loss: 0.5017 - categorical_accuracy: 0.7802 - val_loss: 0.5131 - val_categorical_accuracy: 0.7704\n",
            "Epoch 435/600\n",
            "16342/16342 [==============================] - 3s 177us/sample - loss: 0.5100 - categorical_accuracy: 0.7767 - val_loss: 0.5524 - val_categorical_accuracy: 0.7558\n",
            "Epoch 436/600\n",
            "16342/16342 [==============================] - 3s 191us/sample - loss: 0.5182 - categorical_accuracy: 0.7746 - val_loss: 0.5322 - val_categorical_accuracy: 0.7719\n",
            "Epoch 437/600\n",
            "16342/16342 [==============================] - 3s 178us/sample - loss: 0.5082 - categorical_accuracy: 0.7753 - val_loss: 0.5385 - val_categorical_accuracy: 0.7660\n",
            "Epoch 438/600\n",
            "16342/16342 [==============================] - 3s 178us/sample - loss: 0.5138 - categorical_accuracy: 0.7759 - val_loss: 0.5115 - val_categorical_accuracy: 0.7768\n",
            "Epoch 439/600\n",
            "16342/16342 [==============================] - 3s 178us/sample - loss: 0.5101 - categorical_accuracy: 0.7758 - val_loss: 0.5249 - val_categorical_accuracy: 0.7690\n",
            "Epoch 440/600\n",
            "16342/16342 [==============================] - 3s 178us/sample - loss: 0.5113 - categorical_accuracy: 0.7760 - val_loss: 0.6126 - val_categorical_accuracy: 0.7210\n",
            "Epoch 441/600\n",
            "16342/16342 [==============================] - 3s 178us/sample - loss: 0.5100 - categorical_accuracy: 0.7751 - val_loss: 0.5540 - val_categorical_accuracy: 0.7562\n",
            "Epoch 442/600\n",
            "16342/16342 [==============================] - 3s 179us/sample - loss: 0.5129 - categorical_accuracy: 0.7727 - val_loss: 0.5221 - val_categorical_accuracy: 0.7729\n",
            "Epoch 443/600\n",
            "16342/16342 [==============================] - 3s 177us/sample - loss: 0.5015 - categorical_accuracy: 0.7818 - val_loss: 0.5097 - val_categorical_accuracy: 0.7856\n",
            "Epoch 444/600\n",
            "16342/16342 [==============================] - 3s 178us/sample - loss: 0.5156 - categorical_accuracy: 0.7719 - val_loss: 0.6248 - val_categorical_accuracy: 0.7151\n",
            "Epoch 445/600\n",
            "16342/16342 [==============================] - 3s 178us/sample - loss: 0.5144 - categorical_accuracy: 0.7774 - val_loss: 0.5276 - val_categorical_accuracy: 0.7670\n",
            "Epoch 446/600\n",
            "16342/16342 [==============================] - 3s 178us/sample - loss: 0.5158 - categorical_accuracy: 0.7721 - val_loss: 0.5189 - val_categorical_accuracy: 0.7739\n",
            "Epoch 447/600\n",
            "16342/16342 [==============================] - 3s 179us/sample - loss: 0.4956 - categorical_accuracy: 0.7837 - val_loss: 0.5078 - val_categorical_accuracy: 0.7788\n",
            "Epoch 448/600\n",
            "16342/16342 [==============================] - 3s 179us/sample - loss: 0.4981 - categorical_accuracy: 0.7852 - val_loss: 0.5122 - val_categorical_accuracy: 0.7812\n",
            "Epoch 449/600\n",
            "16342/16342 [==============================] - 3s 180us/sample - loss: 0.5200 - categorical_accuracy: 0.7703 - val_loss: 0.5149 - val_categorical_accuracy: 0.7802\n",
            "Epoch 450/600\n",
            "16342/16342 [==============================] - 3s 178us/sample - loss: 0.5053 - categorical_accuracy: 0.7776 - val_loss: 0.5106 - val_categorical_accuracy: 0.7788\n",
            "Epoch 451/600\n",
            "16342/16342 [==============================] - 3s 179us/sample - loss: 0.5080 - categorical_accuracy: 0.7762 - val_loss: 0.5140 - val_categorical_accuracy: 0.7783\n",
            "Epoch 452/600\n",
            "16342/16342 [==============================] - 3s 177us/sample - loss: 0.5018 - categorical_accuracy: 0.7798 - val_loss: 0.5286 - val_categorical_accuracy: 0.7748\n",
            "Epoch 453/600\n",
            "16342/16342 [==============================] - 3s 179us/sample - loss: 0.5043 - categorical_accuracy: 0.7747 - val_loss: 0.5518 - val_categorical_accuracy: 0.7567\n",
            "Epoch 454/600\n",
            "16342/16342 [==============================] - 3s 178us/sample - loss: 0.5029 - categorical_accuracy: 0.7792 - val_loss: 0.5396 - val_categorical_accuracy: 0.7680\n",
            "Epoch 455/600\n",
            "16342/16342 [==============================] - 3s 178us/sample - loss: 0.5069 - categorical_accuracy: 0.7762 - val_loss: 0.5209 - val_categorical_accuracy: 0.7758\n",
            "Epoch 456/600\n",
            "16342/16342 [==============================] - 3s 177us/sample - loss: 0.4955 - categorical_accuracy: 0.7841 - val_loss: 0.5107 - val_categorical_accuracy: 0.7753\n",
            "Epoch 457/600\n",
            "16342/16342 [==============================] - 3s 179us/sample - loss: 0.5098 - categorical_accuracy: 0.7757 - val_loss: 0.5371 - val_categorical_accuracy: 0.7621\n",
            "Epoch 458/600\n",
            "16342/16342 [==============================] - 3s 178us/sample - loss: 0.5098 - categorical_accuracy: 0.7765 - val_loss: 0.5889 - val_categorical_accuracy: 0.7376\n",
            "Epoch 459/600\n",
            "16342/16342 [==============================] - 3s 178us/sample - loss: 0.5100 - categorical_accuracy: 0.7759 - val_loss: 0.5251 - val_categorical_accuracy: 0.7748\n",
            "Epoch 460/600\n",
            "16342/16342 [==============================] - 3s 179us/sample - loss: 0.5172 - categorical_accuracy: 0.7724 - val_loss: 0.5327 - val_categorical_accuracy: 0.7655\n",
            "Epoch 461/600\n",
            "16342/16342 [==============================] - 3s 178us/sample - loss: 0.4971 - categorical_accuracy: 0.7830 - val_loss: 0.5298 - val_categorical_accuracy: 0.7636\n",
            "Epoch 462/600\n",
            "16342/16342 [==============================] - 3s 178us/sample - loss: 0.4978 - categorical_accuracy: 0.7805 - val_loss: 0.5021 - val_categorical_accuracy: 0.7827\n",
            "Epoch 463/600\n",
            "16342/16342 [==============================] - 3s 179us/sample - loss: 0.5062 - categorical_accuracy: 0.7804 - val_loss: 0.5257 - val_categorical_accuracy: 0.7704\n",
            "Epoch 464/600\n",
            "16342/16342 [==============================] - 3s 178us/sample - loss: 0.5069 - categorical_accuracy: 0.7773 - val_loss: 0.5113 - val_categorical_accuracy: 0.7753\n",
            "Epoch 465/600\n",
            "16342/16342 [==============================] - 3s 178us/sample - loss: 0.5089 - categorical_accuracy: 0.7766 - val_loss: 0.5544 - val_categorical_accuracy: 0.7543\n",
            "Epoch 466/600\n",
            "16342/16342 [==============================] - 3s 179us/sample - loss: 0.4937 - categorical_accuracy: 0.7841 - val_loss: 0.5225 - val_categorical_accuracy: 0.7744\n",
            "Epoch 467/600\n",
            "16342/16342 [==============================] - 3s 177us/sample - loss: 0.5239 - categorical_accuracy: 0.7675 - val_loss: 0.5097 - val_categorical_accuracy: 0.7748\n",
            "Epoch 468/600\n",
            "16342/16342 [==============================] - 3s 179us/sample - loss: 0.4945 - categorical_accuracy: 0.7847 - val_loss: 0.5584 - val_categorical_accuracy: 0.7567\n",
            "Epoch 469/600\n",
            "16342/16342 [==============================] - 3s 177us/sample - loss: 0.5172 - categorical_accuracy: 0.7687 - val_loss: 0.5426 - val_categorical_accuracy: 0.7489\n",
            "Epoch 470/600\n",
            "16342/16342 [==============================] - 3s 178us/sample - loss: 0.4984 - categorical_accuracy: 0.7830 - val_loss: 0.5412 - val_categorical_accuracy: 0.7567\n",
            "Epoch 471/600\n",
            "16342/16342 [==============================] - 3s 179us/sample - loss: 0.5122 - categorical_accuracy: 0.7761 - val_loss: 0.5075 - val_categorical_accuracy: 0.7753\n",
            "Epoch 472/600\n",
            "16342/16342 [==============================] - 3s 179us/sample - loss: 0.4989 - categorical_accuracy: 0.7848 - val_loss: 0.5154 - val_categorical_accuracy: 0.7827\n",
            "Epoch 473/600\n",
            "16342/16342 [==============================] - 3s 179us/sample - loss: 0.4976 - categorical_accuracy: 0.7823 - val_loss: 0.5378 - val_categorical_accuracy: 0.7724\n",
            "Epoch 474/600\n",
            "16342/16342 [==============================] - 3s 179us/sample - loss: 0.5045 - categorical_accuracy: 0.7795 - val_loss: 0.5236 - val_categorical_accuracy: 0.7719\n",
            "Epoch 475/600\n",
            "16342/16342 [==============================] - 3s 179us/sample - loss: 0.4990 - categorical_accuracy: 0.7807 - val_loss: 0.5431 - val_categorical_accuracy: 0.7587\n",
            "Epoch 476/600\n",
            "16342/16342 [==============================] - 3s 179us/sample - loss: 0.5009 - categorical_accuracy: 0.7803 - val_loss: 0.5089 - val_categorical_accuracy: 0.7812\n",
            "Epoch 477/600\n",
            "16342/16342 [==============================] - 3s 178us/sample - loss: 0.5114 - categorical_accuracy: 0.7746 - val_loss: 0.5133 - val_categorical_accuracy: 0.7797\n",
            "Epoch 478/600\n",
            "16342/16342 [==============================] - 3s 178us/sample - loss: 0.4904 - categorical_accuracy: 0.7845 - val_loss: 0.5294 - val_categorical_accuracy: 0.7699\n",
            "Epoch 479/600\n",
            "16342/16342 [==============================] - 3s 179us/sample - loss: 0.4999 - categorical_accuracy: 0.7820 - val_loss: 0.5432 - val_categorical_accuracy: 0.7680\n",
            "Epoch 480/600\n",
            "16342/16342 [==============================] - 3s 178us/sample - loss: 0.5003 - categorical_accuracy: 0.7823 - val_loss: 0.5504 - val_categorical_accuracy: 0.7587\n",
            "Epoch 481/600\n",
            "16342/16342 [==============================] - 3s 179us/sample - loss: 0.5090 - categorical_accuracy: 0.7757 - val_loss: 0.5586 - val_categorical_accuracy: 0.7513\n",
            "Epoch 482/600\n",
            "16342/16342 [==============================] - 3s 179us/sample - loss: 0.5020 - categorical_accuracy: 0.7835 - val_loss: 0.5227 - val_categorical_accuracy: 0.7665\n",
            "Epoch 483/600\n",
            "16342/16342 [==============================] - 3s 178us/sample - loss: 0.5019 - categorical_accuracy: 0.7790 - val_loss: 0.5518 - val_categorical_accuracy: 0.7528\n",
            "Epoch 484/600\n",
            "16342/16342 [==============================] - 3s 179us/sample - loss: 0.4920 - categorical_accuracy: 0.7837 - val_loss: 0.5072 - val_categorical_accuracy: 0.7827\n",
            "Epoch 485/600\n",
            "16342/16342 [==============================] - 3s 178us/sample - loss: 0.5041 - categorical_accuracy: 0.7773 - val_loss: 0.5831 - val_categorical_accuracy: 0.7504\n",
            "Epoch 486/600\n",
            "16342/16342 [==============================] - 3s 178us/sample - loss: 0.5113 - categorical_accuracy: 0.7743 - val_loss: 0.5178 - val_categorical_accuracy: 0.7699\n",
            "Epoch 487/600\n",
            "16342/16342 [==============================] - 3s 178us/sample - loss: 0.5008 - categorical_accuracy: 0.7777 - val_loss: 0.5357 - val_categorical_accuracy: 0.7680\n",
            "Epoch 488/600\n",
            "16342/16342 [==============================] - 3s 180us/sample - loss: 0.4989 - categorical_accuracy: 0.7803 - val_loss: 0.5018 - val_categorical_accuracy: 0.7881\n",
            "Epoch 489/600\n",
            "16342/16342 [==============================] - 3s 177us/sample - loss: 0.5035 - categorical_accuracy: 0.7771 - val_loss: 0.5111 - val_categorical_accuracy: 0.7773\n",
            "Epoch 490/600\n",
            "16342/16342 [==============================] - 3s 179us/sample - loss: 0.4999 - categorical_accuracy: 0.7817 - val_loss: 0.5088 - val_categorical_accuracy: 0.7773\n",
            "Epoch 491/600\n",
            "16342/16342 [==============================] - 3s 179us/sample - loss: 0.5055 - categorical_accuracy: 0.7822 - val_loss: 0.5128 - val_categorical_accuracy: 0.7792\n",
            "Epoch 492/600\n",
            "16342/16342 [==============================] - 3s 178us/sample - loss: 0.5086 - categorical_accuracy: 0.7752 - val_loss: 0.5104 - val_categorical_accuracy: 0.7714\n",
            "Epoch 493/600\n",
            "16342/16342 [==============================] - 3s 179us/sample - loss: 0.4987 - categorical_accuracy: 0.7819 - val_loss: 0.5400 - val_categorical_accuracy: 0.7665\n",
            "Epoch 494/600\n",
            "16342/16342 [==============================] - 3s 178us/sample - loss: 0.5053 - categorical_accuracy: 0.7793 - val_loss: 0.5140 - val_categorical_accuracy: 0.7739\n",
            "Epoch 495/600\n",
            "16342/16342 [==============================] - 3s 179us/sample - loss: 0.5015 - categorical_accuracy: 0.7803 - val_loss: 0.5158 - val_categorical_accuracy: 0.7763\n",
            "Epoch 496/600\n",
            "16342/16342 [==============================] - 3s 178us/sample - loss: 0.4925 - categorical_accuracy: 0.7836 - val_loss: 0.5003 - val_categorical_accuracy: 0.7890\n",
            "Epoch 497/600\n",
            "16342/16342 [==============================] - 3s 178us/sample - loss: 0.5128 - categorical_accuracy: 0.7690 - val_loss: 0.5066 - val_categorical_accuracy: 0.7827\n",
            "Epoch 498/600\n",
            "16342/16342 [==============================] - 3s 179us/sample - loss: 0.4897 - categorical_accuracy: 0.7875 - val_loss: 0.5659 - val_categorical_accuracy: 0.7523\n",
            "Epoch 499/600\n",
            "16342/16342 [==============================] - 3s 178us/sample - loss: 0.5025 - categorical_accuracy: 0.7773 - val_loss: 0.5093 - val_categorical_accuracy: 0.7817\n",
            "Epoch 500/600\n",
            "16342/16342 [==============================] - 3s 178us/sample - loss: 0.5047 - categorical_accuracy: 0.7802 - val_loss: 0.5040 - val_categorical_accuracy: 0.7832\n",
            "Epoch 501/600\n",
            "16342/16342 [==============================] - 3s 179us/sample - loss: 0.4969 - categorical_accuracy: 0.7820 - val_loss: 0.5316 - val_categorical_accuracy: 0.7621\n",
            "Epoch 502/600\n",
            "16342/16342 [==============================] - 3s 179us/sample - loss: 0.5013 - categorical_accuracy: 0.7793 - val_loss: 0.5616 - val_categorical_accuracy: 0.7484\n",
            "Epoch 503/600\n",
            "16342/16342 [==============================] - 3s 178us/sample - loss: 0.4956 - categorical_accuracy: 0.7833 - val_loss: 0.5637 - val_categorical_accuracy: 0.7504\n",
            "Epoch 504/600\n",
            "16342/16342 [==============================] - 3s 178us/sample - loss: 0.5039 - categorical_accuracy: 0.7756 - val_loss: 0.5207 - val_categorical_accuracy: 0.7734\n",
            "Epoch 505/600\n",
            "16342/16342 [==============================] - 3s 178us/sample - loss: 0.4970 - categorical_accuracy: 0.7820 - val_loss: 0.5059 - val_categorical_accuracy: 0.7788\n",
            "Epoch 506/600\n",
            "16342/16342 [==============================] - 3s 178us/sample - loss: 0.4959 - categorical_accuracy: 0.7815 - val_loss: 0.5366 - val_categorical_accuracy: 0.7680\n",
            "Epoch 507/600\n",
            "16342/16342 [==============================] - 3s 178us/sample - loss: 0.4952 - categorical_accuracy: 0.7834 - val_loss: 0.5038 - val_categorical_accuracy: 0.7807\n",
            "Epoch 508/600\n",
            "16342/16342 [==============================] - 3s 178us/sample - loss: 0.4871 - categorical_accuracy: 0.7843 - val_loss: 0.5501 - val_categorical_accuracy: 0.7695\n",
            "Epoch 509/600\n",
            "16342/16342 [==============================] - 3s 178us/sample - loss: 0.5145 - categorical_accuracy: 0.7721 - val_loss: 0.5712 - val_categorical_accuracy: 0.7592\n",
            "Epoch 510/600\n",
            "16342/16342 [==============================] - 3s 178us/sample - loss: 0.4935 - categorical_accuracy: 0.7832 - val_loss: 0.4987 - val_categorical_accuracy: 0.7890\n",
            "Epoch 511/600\n",
            "16342/16342 [==============================] - 3s 179us/sample - loss: 0.4996 - categorical_accuracy: 0.7801 - val_loss: 0.5003 - val_categorical_accuracy: 0.7827\n",
            "Epoch 512/600\n",
            "16342/16342 [==============================] - 3s 179us/sample - loss: 0.4951 - categorical_accuracy: 0.7823 - val_loss: 0.5217 - val_categorical_accuracy: 0.7714\n",
            "Epoch 513/600\n",
            "16342/16342 [==============================] - 3s 179us/sample - loss: 0.4954 - categorical_accuracy: 0.7828 - val_loss: 0.5208 - val_categorical_accuracy: 0.7783\n",
            "Epoch 514/600\n",
            "16342/16342 [==============================] - 3s 178us/sample - loss: 0.4937 - categorical_accuracy: 0.7818 - val_loss: 0.5598 - val_categorical_accuracy: 0.7543\n",
            "Epoch 515/600\n",
            "16342/16342 [==============================] - 3s 179us/sample - loss: 0.5032 - categorical_accuracy: 0.7804 - val_loss: 0.5320 - val_categorical_accuracy: 0.7655\n",
            "Epoch 516/600\n",
            "16342/16342 [==============================] - 3s 179us/sample - loss: 0.4983 - categorical_accuracy: 0.7807 - val_loss: 0.5203 - val_categorical_accuracy: 0.7675\n",
            "Epoch 517/600\n",
            "16342/16342 [==============================] - 3s 180us/sample - loss: 0.4932 - categorical_accuracy: 0.7850 - val_loss: 0.5282 - val_categorical_accuracy: 0.7699\n",
            "Epoch 518/600\n",
            "16342/16342 [==============================] - 3s 179us/sample - loss: 0.5055 - categorical_accuracy: 0.7765 - val_loss: 0.5067 - val_categorical_accuracy: 0.7807\n",
            "Epoch 519/600\n",
            "16342/16342 [==============================] - 3s 179us/sample - loss: 0.5001 - categorical_accuracy: 0.7803 - val_loss: 0.5404 - val_categorical_accuracy: 0.7636\n",
            "Epoch 520/600\n",
            "16342/16342 [==============================] - 3s 178us/sample - loss: 0.4930 - categorical_accuracy: 0.7840 - val_loss: 0.5070 - val_categorical_accuracy: 0.7837\n",
            "Epoch 521/600\n",
            "16342/16342 [==============================] - 3s 179us/sample - loss: 0.4916 - categorical_accuracy: 0.7838 - val_loss: 0.5384 - val_categorical_accuracy: 0.7685\n",
            "Epoch 522/600\n",
            "16342/16342 [==============================] - 3s 178us/sample - loss: 0.4951 - categorical_accuracy: 0.7830 - val_loss: 0.5276 - val_categorical_accuracy: 0.7773\n",
            "Epoch 523/600\n",
            "16342/16342 [==============================] - 3s 178us/sample - loss: 0.4949 - categorical_accuracy: 0.7810 - val_loss: 0.5094 - val_categorical_accuracy: 0.7832\n",
            "Epoch 524/600\n",
            "16342/16342 [==============================] - 3s 178us/sample - loss: 0.4877 - categorical_accuracy: 0.7878 - val_loss: 0.5341 - val_categorical_accuracy: 0.7660\n",
            "Epoch 525/600\n",
            "16342/16342 [==============================] - 3s 178us/sample - loss: 0.5013 - categorical_accuracy: 0.7807 - val_loss: 0.5134 - val_categorical_accuracy: 0.7778\n",
            "Epoch 526/600\n",
            "16342/16342 [==============================] - 3s 178us/sample - loss: 0.4843 - categorical_accuracy: 0.7864 - val_loss: 0.5204 - val_categorical_accuracy: 0.7797\n",
            "Epoch 527/600\n",
            "16342/16342 [==============================] - 3s 178us/sample - loss: 0.4973 - categorical_accuracy: 0.7804 - val_loss: 0.5218 - val_categorical_accuracy: 0.7641\n",
            "Epoch 528/600\n",
            "16342/16342 [==============================] - 3s 178us/sample - loss: 0.4966 - categorical_accuracy: 0.7824 - val_loss: 0.5158 - val_categorical_accuracy: 0.7744\n",
            "Epoch 529/600\n",
            "16342/16342 [==============================] - 3s 179us/sample - loss: 0.4828 - categorical_accuracy: 0.7896 - val_loss: 0.5148 - val_categorical_accuracy: 0.7690\n",
            "Epoch 530/600\n",
            "16342/16342 [==============================] - 3s 178us/sample - loss: 0.4877 - categorical_accuracy: 0.7855 - val_loss: 0.6382 - val_categorical_accuracy: 0.7107\n",
            "Epoch 531/600\n",
            "16342/16342 [==============================] - 3s 179us/sample - loss: 0.4934 - categorical_accuracy: 0.7828 - val_loss: 0.4974 - val_categorical_accuracy: 0.7856\n",
            "Epoch 532/600\n",
            "16342/16342 [==============================] - 3s 180us/sample - loss: 0.4900 - categorical_accuracy: 0.7841 - val_loss: 0.5140 - val_categorical_accuracy: 0.7729\n",
            "Epoch 533/600\n",
            "16342/16342 [==============================] - 3s 179us/sample - loss: 0.5026 - categorical_accuracy: 0.7762 - val_loss: 0.5245 - val_categorical_accuracy: 0.7753\n",
            "Epoch 534/600\n",
            "16342/16342 [==============================] - 3s 178us/sample - loss: 0.4961 - categorical_accuracy: 0.7828 - val_loss: 0.5158 - val_categorical_accuracy: 0.7773\n",
            "Epoch 535/600\n",
            "16342/16342 [==============================] - 3s 179us/sample - loss: 0.4890 - categorical_accuracy: 0.7846 - val_loss: 0.5074 - val_categorical_accuracy: 0.7695\n",
            "Epoch 536/600\n",
            "16342/16342 [==============================] - 3s 178us/sample - loss: 0.4977 - categorical_accuracy: 0.7809 - val_loss: 0.5269 - val_categorical_accuracy: 0.7646\n",
            "Epoch 537/600\n",
            "16342/16342 [==============================] - 3s 178us/sample - loss: 0.4835 - categorical_accuracy: 0.7884 - val_loss: 0.5057 - val_categorical_accuracy: 0.7827\n",
            "Epoch 538/600\n",
            "16342/16342 [==============================] - 3s 178us/sample - loss: 0.4791 - categorical_accuracy: 0.7911 - val_loss: 0.5413 - val_categorical_accuracy: 0.7729\n",
            "Epoch 539/600\n",
            "16342/16342 [==============================] - 3s 179us/sample - loss: 0.5041 - categorical_accuracy: 0.7770 - val_loss: 0.5245 - val_categorical_accuracy: 0.7660\n",
            "Epoch 540/600\n",
            "16342/16342 [==============================] - 3s 179us/sample - loss: 0.4891 - categorical_accuracy: 0.7837 - val_loss: 0.5291 - val_categorical_accuracy: 0.7616\n",
            "Epoch 541/600\n",
            "16342/16342 [==============================] - 3s 179us/sample - loss: 0.4965 - categorical_accuracy: 0.7803 - val_loss: 0.5054 - val_categorical_accuracy: 0.7758\n",
            "Epoch 542/600\n",
            "16342/16342 [==============================] - 3s 178us/sample - loss: 0.4934 - categorical_accuracy: 0.7853 - val_loss: 0.5257 - val_categorical_accuracy: 0.7680\n",
            "Epoch 543/600\n",
            "16342/16342 [==============================] - 3s 178us/sample - loss: 0.4934 - categorical_accuracy: 0.7835 - val_loss: 0.6170 - val_categorical_accuracy: 0.7264\n",
            "Epoch 544/600\n",
            "16342/16342 [==============================] - 3s 178us/sample - loss: 0.5019 - categorical_accuracy: 0.7791 - val_loss: 0.5499 - val_categorical_accuracy: 0.7543\n",
            "Epoch 545/600\n",
            "16342/16342 [==============================] - 3s 178us/sample - loss: 0.4915 - categorical_accuracy: 0.7820 - val_loss: 0.5449 - val_categorical_accuracy: 0.7597\n",
            "Epoch 546/600\n",
            "16342/16342 [==============================] - 3s 179us/sample - loss: 0.4827 - categorical_accuracy: 0.7939 - val_loss: 0.5645 - val_categorical_accuracy: 0.7509\n",
            "Epoch 547/600\n",
            "16342/16342 [==============================] - 3s 179us/sample - loss: 0.4931 - categorical_accuracy: 0.7860 - val_loss: 0.5099 - val_categorical_accuracy: 0.7802\n",
            "Epoch 548/600\n",
            "16342/16342 [==============================] - 3s 178us/sample - loss: 0.4881 - categorical_accuracy: 0.7847 - val_loss: 0.5109 - val_categorical_accuracy: 0.7817\n",
            "Epoch 549/600\n",
            "16342/16342 [==============================] - 3s 178us/sample - loss: 0.4831 - categorical_accuracy: 0.7905 - val_loss: 0.5400 - val_categorical_accuracy: 0.7636\n",
            "Epoch 550/600\n",
            "16342/16342 [==============================] - 3s 179us/sample - loss: 0.4814 - categorical_accuracy: 0.7894 - val_loss: 0.5342 - val_categorical_accuracy: 0.7636\n",
            "Epoch 551/600\n",
            "16342/16342 [==============================] - 3s 178us/sample - loss: 0.4963 - categorical_accuracy: 0.7822 - val_loss: 0.5221 - val_categorical_accuracy: 0.7724\n",
            "Epoch 552/600\n",
            "16342/16342 [==============================] - 3s 179us/sample - loss: 0.4930 - categorical_accuracy: 0.7822 - val_loss: 0.5121 - val_categorical_accuracy: 0.7748\n",
            "Epoch 553/600\n",
            "16342/16342 [==============================] - 3s 178us/sample - loss: 0.4967 - categorical_accuracy: 0.7809 - val_loss: 0.5455 - val_categorical_accuracy: 0.7548\n",
            "Epoch 554/600\n",
            "16342/16342 [==============================] - 3s 177us/sample - loss: 0.4840 - categorical_accuracy: 0.7877 - val_loss: 0.5039 - val_categorical_accuracy: 0.7797\n",
            "Epoch 555/600\n",
            "16342/16342 [==============================] - 3s 178us/sample - loss: 0.4771 - categorical_accuracy: 0.7904 - val_loss: 0.5034 - val_categorical_accuracy: 0.7832\n",
            "Epoch 556/600\n",
            "16342/16342 [==============================] - 3s 178us/sample - loss: 0.4952 - categorical_accuracy: 0.7788 - val_loss: 0.5360 - val_categorical_accuracy: 0.7675\n",
            "Epoch 557/600\n",
            "16342/16342 [==============================] - 3s 178us/sample - loss: 0.4866 - categorical_accuracy: 0.7869 - val_loss: 0.5038 - val_categorical_accuracy: 0.7841\n",
            "Epoch 558/600\n",
            "16342/16342 [==============================] - 3s 179us/sample - loss: 0.4996 - categorical_accuracy: 0.7809 - val_loss: 0.5314 - val_categorical_accuracy: 0.7646\n",
            "Epoch 559/600\n",
            "16342/16342 [==============================] - 3s 178us/sample - loss: 0.4855 - categorical_accuracy: 0.7872 - val_loss: 0.5054 - val_categorical_accuracy: 0.7753\n",
            "Epoch 560/600\n",
            "16342/16342 [==============================] - 3s 177us/sample - loss: 0.4809 - categorical_accuracy: 0.7897 - val_loss: 0.5394 - val_categorical_accuracy: 0.7651\n",
            "Epoch 561/600\n",
            "16342/16342 [==============================] - 3s 178us/sample - loss: 0.4886 - categorical_accuracy: 0.7855 - val_loss: 0.5032 - val_categorical_accuracy: 0.7778\n",
            "Epoch 562/600\n",
            "16342/16342 [==============================] - 3s 177us/sample - loss: 0.5009 - categorical_accuracy: 0.7801 - val_loss: 0.5305 - val_categorical_accuracy: 0.7695\n",
            "Epoch 563/600\n",
            "16342/16342 [==============================] - 3s 178us/sample - loss: 0.4903 - categorical_accuracy: 0.7826 - val_loss: 0.5181 - val_categorical_accuracy: 0.7739\n",
            "Epoch 564/600\n",
            "16342/16342 [==============================] - 3s 178us/sample - loss: 0.4989 - categorical_accuracy: 0.7820 - val_loss: 0.5124 - val_categorical_accuracy: 0.7797\n",
            "Epoch 565/600\n",
            "16342/16342 [==============================] - 3s 179us/sample - loss: 0.4870 - categorical_accuracy: 0.7844 - val_loss: 0.5265 - val_categorical_accuracy: 0.7773\n",
            "Epoch 566/600\n",
            "16342/16342 [==============================] - 3s 179us/sample - loss: 0.4853 - categorical_accuracy: 0.7895 - val_loss: 0.4945 - val_categorical_accuracy: 0.7900\n",
            "Epoch 567/600\n",
            "16342/16342 [==============================] - 3s 178us/sample - loss: 0.4832 - categorical_accuracy: 0.7899 - val_loss: 0.5027 - val_categorical_accuracy: 0.7905\n",
            "Epoch 568/600\n",
            "16342/16342 [==============================] - 3s 178us/sample - loss: 0.4912 - categorical_accuracy: 0.7814 - val_loss: 0.5323 - val_categorical_accuracy: 0.7680\n",
            "Epoch 569/600\n",
            "16342/16342 [==============================] - 3s 179us/sample - loss: 0.4961 - categorical_accuracy: 0.7814 - val_loss: 0.5205 - val_categorical_accuracy: 0.7739\n",
            "Epoch 570/600\n",
            "16342/16342 [==============================] - 3s 177us/sample - loss: 0.4724 - categorical_accuracy: 0.7940 - val_loss: 0.5867 - val_categorical_accuracy: 0.7298\n",
            "Epoch 571/600\n",
            "16342/16342 [==============================] - 3s 178us/sample - loss: 0.4901 - categorical_accuracy: 0.7837 - val_loss: 0.5230 - val_categorical_accuracy: 0.7729\n",
            "Epoch 572/600\n",
            "16342/16342 [==============================] - 3s 178us/sample - loss: 0.4797 - categorical_accuracy: 0.7881 - val_loss: 0.5020 - val_categorical_accuracy: 0.7851\n",
            "Epoch 573/600\n",
            "16342/16342 [==============================] - 3s 178us/sample - loss: 0.4950 - categorical_accuracy: 0.7837 - val_loss: 0.5392 - val_categorical_accuracy: 0.7641\n",
            "Epoch 574/600\n",
            "16342/16342 [==============================] - 3s 176us/sample - loss: 0.4918 - categorical_accuracy: 0.7869 - val_loss: 0.5428 - val_categorical_accuracy: 0.7558\n",
            "Epoch 575/600\n",
            "16342/16342 [==============================] - 3s 176us/sample - loss: 0.4809 - categorical_accuracy: 0.7923 - val_loss: 0.4984 - val_categorical_accuracy: 0.7802\n",
            "Epoch 576/600\n",
            "16342/16342 [==============================] - 3s 176us/sample - loss: 0.4761 - categorical_accuracy: 0.7933 - val_loss: 0.5139 - val_categorical_accuracy: 0.7797\n",
            "Epoch 577/600\n",
            "16342/16342 [==============================] - 3s 176us/sample - loss: 0.4898 - categorical_accuracy: 0.7846 - val_loss: 0.5026 - val_categorical_accuracy: 0.7768\n",
            "Epoch 578/600\n",
            "16342/16342 [==============================] - 3s 176us/sample - loss: 0.4762 - categorical_accuracy: 0.7910 - val_loss: 0.5560 - val_categorical_accuracy: 0.7460\n",
            "Epoch 579/600\n",
            "16342/16342 [==============================] - 3s 176us/sample - loss: 0.4952 - categorical_accuracy: 0.7820 - val_loss: 0.5070 - val_categorical_accuracy: 0.7748\n",
            "Epoch 580/600\n",
            "16342/16342 [==============================] - 3s 175us/sample - loss: 0.4859 - categorical_accuracy: 0.7904 - val_loss: 0.5443 - val_categorical_accuracy: 0.7543\n",
            "Epoch 581/600\n",
            "16342/16342 [==============================] - 3s 176us/sample - loss: 0.4829 - categorical_accuracy: 0.7902 - val_loss: 0.5072 - val_categorical_accuracy: 0.7783\n",
            "Epoch 582/600\n",
            "16342/16342 [==============================] - 3s 176us/sample - loss: 0.4797 - categorical_accuracy: 0.7910 - val_loss: 0.5688 - val_categorical_accuracy: 0.7411\n",
            "Epoch 583/600\n",
            "16342/16342 [==============================] - 3s 175us/sample - loss: 0.4869 - categorical_accuracy: 0.7883 - val_loss: 0.5472 - val_categorical_accuracy: 0.7665\n",
            "Epoch 584/600\n",
            "16342/16342 [==============================] - 3s 175us/sample - loss: 0.4753 - categorical_accuracy: 0.7894 - val_loss: 0.4966 - val_categorical_accuracy: 0.7881\n",
            "Epoch 585/600\n",
            "16342/16342 [==============================] - 3s 176us/sample - loss: 0.4839 - categorical_accuracy: 0.7874 - val_loss: 0.5056 - val_categorical_accuracy: 0.7778\n",
            "Epoch 586/600\n",
            "16342/16342 [==============================] - 3s 175us/sample - loss: 0.4809 - categorical_accuracy: 0.7894 - val_loss: 0.5232 - val_categorical_accuracy: 0.7768\n",
            "Epoch 587/600\n",
            "16342/16342 [==============================] - 3s 176us/sample - loss: 0.4798 - categorical_accuracy: 0.7923 - val_loss: 0.5015 - val_categorical_accuracy: 0.7890\n",
            "Epoch 588/600\n",
            "16342/16342 [==============================] - 3s 175us/sample - loss: 0.4826 - categorical_accuracy: 0.7897 - val_loss: 0.5128 - val_categorical_accuracy: 0.7714\n",
            "Epoch 589/600\n",
            "16342/16342 [==============================] - 3s 175us/sample - loss: 0.4807 - categorical_accuracy: 0.7890 - val_loss: 0.5190 - val_categorical_accuracy: 0.7709\n",
            "Epoch 590/600\n",
            "16342/16342 [==============================] - 3s 175us/sample - loss: 0.4736 - categorical_accuracy: 0.7936 - val_loss: 0.5169 - val_categorical_accuracy: 0.7704\n",
            "Epoch 591/600\n",
            "16342/16342 [==============================] - 3s 175us/sample - loss: 0.4901 - categorical_accuracy: 0.7836 - val_loss: 0.5397 - val_categorical_accuracy: 0.7572\n",
            "Epoch 592/600\n",
            "16342/16342 [==============================] - 3s 175us/sample - loss: 0.4717 - categorical_accuracy: 0.7942 - val_loss: 0.5290 - val_categorical_accuracy: 0.7651\n",
            "Epoch 593/600\n",
            "16342/16342 [==============================] - 3s 175us/sample - loss: 0.4930 - categorical_accuracy: 0.7861 - val_loss: 0.5227 - val_categorical_accuracy: 0.7778\n",
            "Epoch 594/600\n",
            "16342/16342 [==============================] - 3s 176us/sample - loss: 0.4847 - categorical_accuracy: 0.7880 - val_loss: 0.5253 - val_categorical_accuracy: 0.7773\n",
            "Epoch 595/600\n",
            "16342/16342 [==============================] - 3s 175us/sample - loss: 0.4872 - categorical_accuracy: 0.7858 - val_loss: 0.5654 - val_categorical_accuracy: 0.7553\n",
            "Epoch 596/600\n",
            "16342/16342 [==============================] - 3s 176us/sample - loss: 0.4797 - categorical_accuracy: 0.7900 - val_loss: 0.4968 - val_categorical_accuracy: 0.7802\n",
            "Epoch 597/600\n",
            "16342/16342 [==============================] - 3s 176us/sample - loss: 0.4815 - categorical_accuracy: 0.7901 - val_loss: 0.5007 - val_categorical_accuracy: 0.7744\n",
            "Epoch 598/600\n",
            "16342/16342 [==============================] - 3s 177us/sample - loss: 0.4711 - categorical_accuracy: 0.7936 - val_loss: 0.4971 - val_categorical_accuracy: 0.7841\n",
            "Epoch 599/600\n",
            "16342/16342 [==============================] - 3s 176us/sample - loss: 0.4769 - categorical_accuracy: 0.7918 - val_loss: 0.5057 - val_categorical_accuracy: 0.7714\n",
            "Epoch 600/600\n",
            "16342/16342 [==============================] - 3s 175us/sample - loss: 0.4873 - categorical_accuracy: 0.7856 - val_loss: 0.5007 - val_categorical_accuracy: 0.7832\n",
            "1256.199032\n"
          ],
          "name": "stdout"
        }
      ]
    },
    {
      "cell_type": "code",
      "metadata": {
        "id": "ei8jQFBcgqQ1",
        "colab_type": "code",
        "outputId": "e02661c3-d0e4-4278-90dd-5b0cd3d7d944",
        "colab": {
          "base_uri": "https://localhost:8080/",
          "height": 358
        }
      },
      "source": [
        "results=pd.DataFrame(history.history)\n",
        "results.plot(figsize=(8, 5))\n",
        "plt.grid(True)\n",
        "plt.xlabel (\"Epochs\")\n",
        "plt.ylabel (\"Accuracy - Mean Log Loss\")\n",
        "plt.gca().set_ylim(0, 1) # set the vertical range to [0-1]\n",
        "plt.show()"
      ],
      "execution_count": 0,
      "outputs": [
        {
          "output_type": "display_data",
          "data": {
            "image/png": "[encoded data removed]",
            "text/plain": [
              "<Figure size 576x360 with 1 Axes>"
            ]
          },
          "metadata": {
            "tags": []
          }
        }
      ]
    },
    {
      "cell_type": "markdown",
      "metadata": {
        "id": "ESvg7wr-slAk",
        "colab_type": "text"
      },
      "source": [
        "Note how the learning curves are plain. BP learning algorithm does not modify the weights of the connections because the derivative of the tanh fucntion is zero for high values of the net: **fundamental deep learning problem**. "
      ]
    },
    {
      "cell_type": "code",
      "metadata": {
        "id": "UV5Pfxp8hAWZ",
        "colab_type": "code",
        "outputId": "27cfb767-7cea-4380-b9b3-a8db3db89c5b",
        "colab": {
          "base_uri": "https://localhost:8080/",
          "height": 213
        }
      },
      "source": [
        "history.params"
      ],
      "execution_count": 0,
      "outputs": [
        {
          "output_type": "execute_result",
          "data": {
            "text/plain": [
              "{'batch_size': 500,\n",
              " 'do_validation': True,\n",
              " 'epochs': 600,\n",
              " 'metrics': ['loss',\n",
              "  'categorical_accuracy',\n",
              "  'val_loss',\n",
              "  'val_categorical_accuracy'],\n",
              " 'samples': 16342,\n",
              " 'steps': None,\n",
              " 'verbose': 0}"
            ]
          },
          "metadata": {
            "tags": []
          },
          "execution_count": 19
        }
      ]
    },
    {
      "cell_type": "code",
      "metadata": {
        "id": "roAiIXx2h7Gw",
        "colab_type": "code",
        "outputId": "8d5df68a-b366-416d-a846-9d99b3d3cd29",
        "colab": {
          "base_uri": "https://localhost:8080/",
          "height": 101
        }
      },
      "source": [
        "results[-1:]"
      ],
      "execution_count": 0,
      "outputs": [
        {
          "output_type": "execute_result",
          "data": {
            "text/html": [
              "<div>\n",
              "<style scoped>\n",
              "    .dataframe tbody tr th:only-of-type {\n",
              "        vertical-align: middle;\n",
              "    }\n",
              "\n",
              "    .dataframe tbody tr th {\n",
              "        vertical-align: top;\n",
              "    }\n",
              "\n",
              "    .dataframe thead th {\n",
              "        text-align: right;\n",
              "    }\n",
              "</style>\n",
              "<table border=\"1\" class=\"dataframe\">\n",
              "  <thead>\n",
              "    <tr style=\"text-align: right;\">\n",
              "      <th></th>\n",
              "      <th>loss</th>\n",
              "      <th>categorical_accuracy</th>\n",
              "      <th>val_loss</th>\n",
              "      <th>val_categorical_accuracy</th>\n",
              "    </tr>\n",
              "  </thead>\n",
              "  <tbody>\n",
              "    <tr>\n",
              "      <th>599</th>\n",
              "      <td>0.487296</td>\n",
              "      <td>0.785644</td>\n",
              "      <td>0.500722</td>\n",
              "      <td>0.783162</td>\n",
              "    </tr>\n",
              "  </tbody>\n",
              "</table>\n",
              "</div>"
            ],
            "text/plain": [
              "         loss  categorical_accuracy  val_loss  val_categorical_accuracy\n",
              "599  0.487296              0.785644  0.500722                  0.783162"
            ]
          },
          "metadata": {
            "tags": []
          },
          "execution_count": 20
        }
      ]
    },
    {
      "cell_type": "code",
      "metadata": {
        "id": "PWFtUYNKqqmX",
        "colab_type": "code",
        "outputId": "4a63413f-3592-418e-fcc7-83084935b2ac",
        "colab": {
          "base_uri": "https://localhost:8080/",
          "height": 55
        }
      },
      "source": [
        "print (\"Accuracy for the training set: \", results.categorical_accuracy.values[-1:][0])"
      ],
      "execution_count": 0,
      "outputs": [
        {
          "output_type": "stream",
          "text": [
            "Accuracy for the training set:  0.7856443524360657\n"
          ],
          "name": "stdout"
        }
      ]
    },
    {
      "cell_type": "code",
      "metadata": {
        "scrolled": true,
        "id": "yP53JgeQqqma",
        "colab_type": "code",
        "outputId": "207985f5-0d65-45b7-fecd-70065d4a7de1",
        "colab": {
          "base_uri": "https://localhost:8080/",
          "height": 55
        }
      },
      "source": [
        "print (\"Accuracy for the development test set: \", results.val_categorical_accuracy.values[-1:][0])"
      ],
      "execution_count": 0,
      "outputs": [
        {
          "output_type": "stream",
          "text": [
            "Accuracy for the development test set:  0.783161997795105\n"
          ],
          "name": "stdout"
        }
      ]
    },
    {
      "cell_type": "markdown",
      "metadata": {
        "id": "2wtSZeG6fH_V",
        "colab_type": "text"
      },
      "source": [
        "Now the accuracy is 73% on training and 73% on the develoment test set, very similar values to those achieved with just one hidden layer with 1,000 neurons.  "
      ]
    },
    {
      "cell_type": "markdown",
      "metadata": {
        "id": "H5X5iQSKfTOY",
        "colab_type": "text"
      },
      "source": [
        "Let's see how the model predicts on the development test set:"
      ]
    },
    {
      "cell_type": "code",
      "metadata": {
        "id": "t3gUC7-vfgL8",
        "colab_type": "code",
        "outputId": "5b9e17dc-815c-4bf1-cb8b-794594308998",
        "colab": {
          "base_uri": "https://localhost:8080/",
          "height": 389
        }
      },
      "source": [
        "dev_predictions=model.predict(x_dev).round(2)\n",
        "dev_predictions[:20]\n"
      ],
      "execution_count": 0,
      "outputs": [
        {
          "output_type": "execute_result",
          "data": {
            "text/plain": [
              "array([[0.18, 0.8 , 0.01],\n",
              "       [0.  , 0.02, 0.98],\n",
              "       [0.85, 0.14, 0.01],\n",
              "       [0.11, 0.8 , 0.1 ],\n",
              "       [0.26, 0.67, 0.06],\n",
              "       [0.01, 0.49, 0.5 ],\n",
              "       [0.  , 0.22, 0.78],\n",
              "       [0.  , 0.01, 0.99],\n",
              "       [0.01, 0.  , 0.99],\n",
              "       [0.65, 0.34, 0.02],\n",
              "       [0.06, 0.81, 0.13],\n",
              "       [0.68, 0.3 , 0.02],\n",
              "       [0.93, 0.05, 0.02],\n",
              "       [0.28, 0.46, 0.26],\n",
              "       [0.89, 0.11, 0.01],\n",
              "       [0.  , 0.04, 0.96],\n",
              "       [0.99, 0.01, 0.  ],\n",
              "       [0.  , 0.01, 0.99],\n",
              "       [0.01, 0.96, 0.03],\n",
              "       [0.01, 0.02, 0.98]], dtype=float32)"
            ]
          },
          "metadata": {
            "tags": []
          },
          "execution_count": 23
        }
      ]
    },
    {
      "cell_type": "code",
      "metadata": {
        "id": "JGueKhZHqqmd",
        "colab_type": "code",
        "outputId": "9c5675a6-566e-4aeb-8916-a9f8f9ce4a13",
        "colab": {
          "base_uri": "https://localhost:8080/",
          "height": 389
        }
      },
      "source": [
        "dev_rounded_predictions=np.round(dev_predictions)\n",
        "indices = np.argmax(dev_predictions,1)\n",
        "for row, index in zip(dev_rounded_predictions, indices): row[index]=1\n",
        "dev_rounded_predictions[:20]"
      ],
      "execution_count": 0,
      "outputs": [
        {
          "output_type": "execute_result",
          "data": {
            "text/plain": [
              "array([[0., 1., 0.],\n",
              "       [0., 0., 1.],\n",
              "       [1., 0., 0.],\n",
              "       [0., 1., 0.],\n",
              "       [0., 1., 0.],\n",
              "       [0., 0., 1.],\n",
              "       [0., 0., 1.],\n",
              "       [0., 0., 1.],\n",
              "       [0., 0., 1.],\n",
              "       [1., 0., 0.],\n",
              "       [0., 1., 0.],\n",
              "       [1., 0., 0.],\n",
              "       [1., 0., 0.],\n",
              "       [0., 1., 0.],\n",
              "       [1., 0., 0.],\n",
              "       [0., 0., 1.],\n",
              "       [1., 0., 0.],\n",
              "       [0., 0., 1.],\n",
              "       [0., 1., 0.],\n",
              "       [0., 0., 1.]], dtype=float32)"
            ]
          },
          "metadata": {
            "tags": []
          },
          "execution_count": 24
        }
      ]
    },
    {
      "cell_type": "code",
      "metadata": {
        "id": "vWmB9Pc-qqme",
        "colab_type": "code",
        "outputId": "ee48b384-e027-4e09-a09c-46fb5e188b74",
        "colab": {
          "base_uri": "https://localhost:8080/",
          "height": 389
        }
      },
      "source": [
        "t_dev[:20] #target classes"
      ],
      "execution_count": 0,
      "outputs": [
        {
          "output_type": "execute_result",
          "data": {
            "text/plain": [
              "array([[1., 0., 0.],\n",
              "       [0., 0., 1.],\n",
              "       [1., 0., 0.],\n",
              "       [0., 1., 0.],\n",
              "       [0., 1., 0.],\n",
              "       [0., 1., 0.],\n",
              "       [0., 0., 1.],\n",
              "       [0., 0., 1.],\n",
              "       [0., 0., 1.],\n",
              "       [0., 1., 0.],\n",
              "       [0., 1., 0.],\n",
              "       [0., 1., 0.],\n",
              "       [1., 0., 0.],\n",
              "       [0., 0., 1.],\n",
              "       [1., 0., 0.],\n",
              "       [0., 0., 1.],\n",
              "       [1., 0., 0.],\n",
              "       [0., 0., 1.],\n",
              "       [0., 1., 0.],\n",
              "       [0., 0., 1.]])"
            ]
          },
          "metadata": {
            "tags": []
          },
          "execution_count": 25
        }
      ]
    },
    {
      "cell_type": "code",
      "metadata": {
        "id": "efzEzJ5tqqmf",
        "colab_type": "code",
        "outputId": "1dac3d44-016e-47eb-d44a-a385156719ca",
        "colab": {
          "base_uri": "https://localhost:8080/",
          "height": 90
        }
      },
      "source": [
        "dev_correct_predictions = np.equal(np.argmax(dev_rounded_predictions,1),np.argmax(t_dev,1))\n",
        "print (dev_correct_predictions[:30])"
      ],
      "execution_count": 0,
      "outputs": [
        {
          "output_type": "stream",
          "text": [
            "[False  True  True  True  True False  True  True  True False  True False\n",
            "  True False  True  True  True  True  True  True  True False  True  True\n",
            "  True  True  True  True  True  True]\n"
          ],
          "name": "stdout"
        }
      ]
    },
    {
      "cell_type": "code",
      "metadata": {
        "id": "w9vjCo41Zn_e",
        "colab_type": "code",
        "outputId": "2cafcc56-2c0c-4b79-8bf4-de5de18d8164",
        "colab": {
          "base_uri": "https://localhost:8080/",
          "height": 55
        }
      },
      "source": [
        "from collections import Counter\n",
        "Counter (dev_correct_predictions)"
      ],
      "execution_count": 0,
      "outputs": [
        {
          "output_type": "execute_result",
          "data": {
            "text/plain": [
              "Counter({False: 445, True: 1598})"
            ]
          },
          "metadata": {
            "tags": []
          },
          "execution_count": 27
        }
      ]
    }
  ]
}